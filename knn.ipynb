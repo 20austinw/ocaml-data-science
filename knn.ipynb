{
 "cells": [
  {
   "cell_type": "code",
   "execution_count": 7,
   "id": "retired-demand",
   "metadata": {},
   "outputs": [
    {
     "name": "stdout",
     "output_type": "stream",
     "text": [
      "val k : int ref = {contents = 5}\n",
      "val set_k : int -> int = <fun>\n",
      "val vote : 'a list -> 'a = <fun>\n",
      "val euclidean_distance : float list -> float list -> float = <fun>\n",
      "val arg_sort : 'a list -> int -> int list = <fun>\n",
      "val predict : float list list -> float list list -> 'a list -> 'a list =\n",
      "  <fun>\n"
     ]
    }
   ],
   "source": [
    "#require \"jupyter-archimedes\"\n",
    "#use \"knn.ml\""
   ]
  },
  {
   "cell_type": "code",
   "execution_count": 9,
   "id": "going-motor",
   "metadata": {},
   "outputs": [
    {
     "data": {
      "text/plain": [
       "val train_green : float list list =\n",
       "  [[5.; 15.]; [7.2; 14.8]; [7.5; 17.4]; [6.8; 19.]; [3.4; 12.2]; [9.5; 15.]]\n"
      ]
     },
     "execution_count": 9,
     "metadata": {},
     "output_type": "execute_result"
    },
    {
     "data": {
      "text/plain": [
       "val train_blue : float list list =\n",
       "  [[15.2; 8.]; [18.2; 6.5]; [16.9; 3.4]; [14.1; 5.]; [13.4; 8.1];\n",
       "   [19.5; 4.9]]\n"
      ]
     },
     "execution_count": 9,
     "metadata": {},
     "output_type": "execute_result"
    },
    {
     "data": {
      "text/plain": [
       "val train_red : float list list =\n",
       "  [[16.; 15.]; [17.2; 12.8]; [19.5; 14.1]; [13.8; 17.]; [15.4; 11.9];\n",
       "   [18.9; 19.2]]\n"
      ]
     },
     "execution_count": 9,
     "metadata": {},
     "output_type": "execute_result"
    },
    {
     "data": {
      "text/plain": [
       "val x_train : float list list =\n",
       "  [[5.; 15.]; [7.2; 14.8]; [7.5; 17.4]; [6.8; 19.]; [3.4; 12.2]; [9.5; 15.];\n",
       "   [15.2; 8.]; [18.2; 6.5]; [16.9; 3.4]; [14.1; 5.]; [13.4; 8.1];\n",
       "   [19.5; 4.9]; [16.; 15.]; [17.2; 12.8]; [19.5; 14.1]; [13.8; 17.];\n",
       "   [15.4; 11.9]; [18.9; 19.2]]\n"
      ]
     },
     "execution_count": 9,
     "metadata": {},
     "output_type": "execute_result"
    },
    {
     "data": {
      "text/plain": [
       "val y_train : string list =\n",
       "  [\"green\"; \"green\"; \"green\"; \"green\"; \"green\"; \"green\"; \"blue\"; \"blue\";\n",
       "   \"blue\"; \"blue\"; \"blue\"; \"blue\"; \"red\"; \"red\"; \"red\"; \"red\"; \"red\"; \"red\"]\n"
      ]
     },
     "execution_count": 9,
     "metadata": {},
     "output_type": "execute_result"
    },
    {
     "data": {
      "text/plain": [
       "val gen_test_values : float list list -> int -> int -> float list list =\n",
       "  <fun>\n"
      ]
     },
     "execution_count": 9,
     "metadata": {},
     "output_type": "execute_result"
    },
    {
     "data": {
      "text/plain": [
       "val x_test : float list list =\n",
       "  [[1.9501561360729236; 6.10257267727019848];\n",
       "   [10.4650360392730839; 3.88124155224394807];\n",
       "   [17.8981954684930784; 8.15325507967469321];\n",
       "   [6.59212384842788079; 11.854995514649449];\n",
       "   [9.77150696457804813; 12.7688618120081383];\n",
       "   [0.552409340871089505; 16.0352181607533];\n",
       "   [6.21971319688015711; 6.57389446173484693]]\n"
      ]
     },
     "execution_count": 9,
     "metadata": {},
     "output_type": "execute_result"
    },
    {
     "data": {
      "text/plain": [
       "val k : int = 10\n"
      ]
     },
     "execution_count": 9,
     "metadata": {},
     "output_type": "execute_result"
    },
    {
     "data": {
      "text/plain": [
       "val y_preds : string list =\n",
       "  [\"green\"; \"blue\"; \"blue\"; \"green\"; \"green\"; \"green\"; \"green\"]\n"
      ]
     },
     "execution_count": 9,
     "metadata": {},
     "output_type": "execute_result"
    },
    {
     "data": {
      "text/plain": [
       "val pp_train : (float * float) list =\n",
       "  [(5., 15.); (7.2, 14.8); (7.5, 17.4); (6.8, 19.); (3.4, 12.2); (9.5, 15.);\n",
       "   (15.2, 8.); (18.2, 6.5); (16.9, 3.4); (14.1, 5.); (13.4, 8.1);\n",
       "   (19.5, 4.9); (16., 15.); (17.2, 12.8); (19.5, 14.1); (13.8, 17.);\n",
       "   (15.4, 11.9); (18.9, 19.2)]\n"
      ]
     },
     "execution_count": 9,
     "metadata": {},
     "output_type": "execute_result"
    },
    {
     "data": {
      "text/plain": [
       "val pp_test : (float * float) list =\n",
       "  [(1.9501561360729236, 6.10257267727019848);\n",
       "   (10.4650360392730839, 3.88124155224394807);\n",
       "   (17.8981954684930784, 8.15325507967469321);\n",
       "   (6.59212384842788079, 11.854995514649449);\n",
       "   (9.77150696457804813, 12.7688618120081383);\n",
       "   (0.552409340871089505, 16.0352181607533);\n",
       "   (6.21971319688015711, 6.57389446173484693)]\n"
      ]
     },
     "execution_count": 9,
     "metadata": {},
     "output_type": "execute_result"
    }
   ],
   "source": [
    "(* creating a simple training set *)\n",
    "let train_green = [[5.;15.;];[7.2;14.8];[7.5;17.4;];[6.8;19.0];[3.4;12.2];[9.5;15.];]\n",
    "let train_blue = [[15.2;8.;];[18.2;6.5];[16.9;3.4;];[14.1;5.0];[13.4;8.1];[19.5;4.9];]\n",
    "let train_red = [[16.;15.;];[17.2;12.8];[19.5;14.1;];[13.8;17.0];[15.4;11.9];[18.9;19.2];]\n",
    "let x_train = train_green @ train_blue @ train_red\n",
    "let y_train = List.init 6 (fun x -> \"green\") @ List.init 6 (fun x -> \"blue\") @ List.init 6 (fun x -> \"red\")\n",
    "\n",
    "\n",
    "let rec gen_test_values acc lo hi = \n",
    "if hi < lo then acc else\n",
    "gen_test_values ([Random.float 20.; Random.float 20.] :: acc) (lo + 1) hi\n",
    "\n",
    "\n",
    "let x_test = gen_test_values [] 0 6\n",
    "\n",
    "(* set k *)\n",
    "let k = set_k 10\n",
    "\n",
    "(* get the knn prediction *)\n",
    "let y_preds = predict x_test x_train y_train\n",
    "\n",
    "(* pretty print for archimedes *)\n",
    "let pp_train = List.map (fun x -> ((List.nth x 0),(List.nth x 1))) x_train\n",
    "let pp_test = List.map (fun x -> ((List.nth x 0),(List.nth x 1))) x_test"
   ]
  },
  {
   "cell_type": "code",
   "execution_count": 5,
   "id": "nearby-crime",
   "metadata": {},
   "outputs": [
    {
     "data": {
      "image/png": "[encoded data removed]"
     },
     "metadata": {},
     "output_type": "display_data"
    },
    {
     "data": {
      "text/plain": [
       "- : unit = ()\n"
      ]
     },
     "execution_count": 5,
     "metadata": {},
     "output_type": "execute_result"
    }
   ],
   "source": [
    "(* Plot using Archimedes \n",
    "dark colors are the algos prediction\n",
    "*)\n",
    "let vp = A. init ~w:600. ~h:600. [\"jupyter\"] in\n",
    "    A.Axes.box vp ;\n",
    "    for i = 0 to pred (List.length pp_train) do \n",
    "        let color = List.nth y_train i in\n",
    "        if color = \"red\" then\n",
    "            A.set_color vp A.Color.red ;\n",
    "        if color = \"green\" then\n",
    "            A.set_color vp A.Color.green ;\n",
    "        if color = \"blue\" then\n",
    "            A.set_color vp A.Color.blue ;\n",
    "        A.List.xy_pairs vp [(List.nth pp_train i)] ;\n",
    "    done;\n",
    "    for i = 0 to pred (List.length pp_test) do \n",
    "        let color = List.nth y_preds i in\n",
    "        if color = \"red\" then\n",
    "            A.set_color vp (A.Color.rgb 0.5 0. 0.) ;\n",
    "        if color = \"green\" then\n",
    "            A.set_color vp (A.Color.rgb 0. 0.5 0.) ;\n",
    "        if color = \"blue\" then\n",
    "            A.set_color vp (A.Color.rgb 0. 0. 0.5) ;\n",
    "        A.List.xy_pairs vp [(List.nth pp_test i)] ;\n",
    "    done;\n",
    "    A.close vp"
   ]
  },
  {
   "cell_type": "code",
   "execution_count": null,
   "id": "particular-blowing",
   "metadata": {
    "scrolled": true
   },
   "outputs": [],
   "source": []
  },
  {
   "cell_type": "code",
   "execution_count": null,
   "id": "political-small",
   "metadata": {},
   "outputs": [],
   "source": []
  }
 ],
 "metadata": {
  "kernelspec": {
   "display_name": "OCaml cs3110-finalproj",
   "language": "OCaml",
   "name": "ocaml-jupyter"
  },
  "language_info": {
   "codemirror_mode": "text/x-ocaml",
   "file_extension": ".ml",
   "mimetype": "text/x-ocaml",
   "name": "OCaml",
   "nbconverter_exporter": null,
   "pygments_lexer": "OCaml",
   "version": "4.11.1"
  }
 },
 "nbformat": 4,
 "nbformat_minor": 5
}
