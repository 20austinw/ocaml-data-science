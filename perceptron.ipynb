{
 "cells": [
  {
   "cell_type": "code",
   "execution_count": 1,
   "id": "metric-winning",
   "metadata": {},
   "outputs": [
    {
     "name": "stderr",
     "output_type": "stream",
     "text": [
      "/home/kalagar/.opam/cs3110-finalproj/lib/ocaml/unix.cma: loaded\n",
      "/home/kalagar/.opam/cs3110-finalproj/lib/ocaml/bigarray.cma: loaded\n",
      "/home/kalagar/.opam/cs3110-finalproj/lib/cairo2: added to search path\n",
      "/home/kalagar/.opam/cs3110-finalproj/lib/cairo2/cairo.cma: loaded\n",
      "/home/kalagar/.opam/cs3110-finalproj/lib/ocaml/dynlink.cma: loaded\n",
      "/home/kalagar/.opam/cs3110-finalproj/lib/ocaml/camlp4: added to search path\n",
      "/home/kalagar/.opam/cs3110-finalproj/lib/archimedes: added to search path\n",
      "/home/kalagar/.opam/cs3110-finalproj/lib/archimedes/archimedes_internals.cma: loaded\n",
      "/home/kalagar/.opam/cs3110-finalproj/lib/archimedes/archimedes_toploop.cma: loaded\n"
     ]
    },
    {
     "name": "stdout",
     "output_type": "stream",
     "text": [
      "Cannot find file graphics.cma.\n",
      "Cannot find file archimedes_graphics.cma.\n"
     ]
    },
    {
     "name": "stderr",
     "output_type": "stream",
     "text": [
      "Module Archimedes loaded and aliased as A.\n",
      "/home/kalagar/.opam/cs3110-finalproj/lib/archimedes/archimedes_cairo.cma: loaded\n",
      "/home/kalagar/.opam/cs3110-finalproj/lib/bytes: added to search path\n",
      "/home/kalagar/.opam/cs3110-finalproj/lib/base64: added to search path\n",
      "/home/kalagar/.opam/cs3110-finalproj/lib/base64/base64.cma: loaded\n",
      "/home/kalagar/.opam/cs3110-finalproj/lib/ocaml/compiler-libs: added to search path\n",
      "/home/kalagar/.opam/cs3110-finalproj/lib/ocaml/compiler-libs/ocamlcommon.cma: loaded\n",
      "/home/kalagar/.opam/cs3110-finalproj/lib/result: added to search path\n",
      "/home/kalagar/.opam/cs3110-finalproj/lib/result/result.cma: loaded\n",
      "/home/kalagar/.opam/cs3110-finalproj/lib/ppx_deriving/runtime: added to search path\n",
      "/home/kalagar/.opam/cs3110-finalproj/lib/ppx_deriving/runtime/ppx_deriving_runtime.cma: loaded\n",
      "/home/kalagar/.opam/cs3110-finalproj/lib/ppx_deriving_yojson/runtime: added to search path\n",
      "/home/kalagar/.opam/cs3110-finalproj/lib/ppx_deriving_yojson/runtime/ppx_deriving_yojson_runtime.cma: loaded\n",
      "/home/kalagar/.opam/cs3110-finalproj/lib/uuidm: added to search path\n",
      "/home/kalagar/.opam/cs3110-finalproj/lib/uuidm/uuidm.cma: loaded\n",
      "/home/kalagar/.opam/cs3110-finalproj/lib/easy-format: added to search path\n",
      "/home/kalagar/.opam/cs3110-finalproj/lib/easy-format/easy_format.cma: loaded\n",
      "/home/kalagar/.opam/cs3110-finalproj/lib/biniou: added to search path\n",
      "/home/kalagar/.opam/cs3110-finalproj/lib/biniou/biniou.cma: loaded\n",
      "/home/kalagar/.opam/cs3110-finalproj/lib/yojson: added to search path\n",
      "/home/kalagar/.opam/cs3110-finalproj/lib/yojson/yojson.cma: loaded\n",
      "/home/kalagar/.opam/cs3110-finalproj/lib/jupyter: added to search path\n",
      "/home/kalagar/.opam/cs3110-finalproj/lib/jupyter/jupyter.cma: loaded\n",
      "/home/kalagar/.opam/cs3110-finalproj/lib/jupyter/notebook: added to search path\n",
      "/home/kalagar/.opam/cs3110-finalproj/lib/jupyter/notebook/jupyter_notebook.cma: loaded\n",
      "/home/kalagar/.opam/cs3110-finalproj/lib/jupyter-archimedes: added to search path\n",
      "/home/kalagar/.opam/cs3110-finalproj/lib/jupyter-archimedes/jupyter_archimedes.cma: loaded\n"
     ]
    },
    {
     "name": "stdout",
     "output_type": "stream",
     "text": [
      "type t = { dimensions : int * int; matrix : float list list; }\n",
      "exception InvalidDimensions of string\n",
      "val dim : t -> int * int = <fun>\n",
      "val matrix : t -> float list list = <fun>\n",
      "val fill : int -> int -> float -> t = <fun>\n",
      "val zero : int -> int -> t = <fun>\n",
      "val eye : int -> t = <fun>\n",
      "val transpose : t -> t = <fun>\n",
      "val mult : t -> t -> t = <fun>\n",
      "val to_array : 'a list list -> 'a array array = <fun>\n",
      "val to_list : 'a array array -> 'a list list = <fun>\n",
      "val swap : 'a array -> int -> int -> unit = <fun>\n",
      "val rref : t -> t = <fun>\n",
      "val construct : float list list -> t = <fun>\n",
      "val lu_decomp : t -> t * t = <fun>\n",
      "val concat : t -> t -> t = <fun>\n",
      "val invert : t -> t = <fun>\n",
      "val scale : t -> float -> t = <fun>\n",
      "val det : t -> float = <fun>\n",
      "val magnitude : t -> float = <fun>\n",
      "val normalize : t -> t = <fun>\n",
      "val eigen : t -> bool -> float * t = <fun>\n",
      "val elem_pow : t -> float -> t = <fun>\n",
      "val pinv : t -> t = <fun>\n",
      "val op : t -> t -> (float -> float -> float) -> t = <fun>\n",
      "val dot : t -> t -> float = <fun>\n",
      "val elem_f : t -> (float -> float) -> t = <fun>\n",
      "val w : Matrix.t ref = {contents = <abstr>}\n",
      "val train : Matrix.t -> float -> Matrix.t -> Matrix.t = <fun>\n"
     ]
    }
   ],
   "source": [
    "#directory \"_build\"\n",
    "#load \"matrix.cmo\"\n",
    "#require \"jupyter-archimedes\"\n",
    "#use \"matrix.ml\"\n",
    "#use \"perceptron.ml\""
   ]
  },
  {
   "cell_type": "code",
   "execution_count": 2,
   "id": "separate-adoption",
   "metadata": {},
   "outputs": [
    {
     "data": {
      "text/plain": [
       "val gen_x : float list -> int -> float list = <fun>\n"
      ]
     },
     "execution_count": 2,
     "metadata": {},
     "output_type": "execute_result"
    },
    {
     "data": {
      "text/plain": [
       "val x : float list =\n",
       "  [-0.987784595469628268; -0.489905336965362537; -0.352604062839214416;\n",
       "   0.0173777388624515305; 0.00499562489414362432; -0.104478011317730379;\n",
       "   0.791493012817419; 0.269814172621075543; -0.333522215857828819;\n",
       "   0.728501042862963244; 0.732674502192866894; 0.868223619777464;\n",
       "   0.782297003066752761; -0.503393821968151078; -0.0605919413435303;\n",
       "   -0.412568137859626427; -0.791872204780667888; 0.157749898044766246;\n",
       "   0.612974931625427599; 0.17574113528771873; -0.370390135820079847;\n",
       "   -0.106938754707225359; -0.620362308135317564; -0.769548849473776109;\n",
       "   0.808060296490082375; 0.845621667123675591; 0.675024501598670224;\n",
       "   0.0703462091105935272; -0.466788489328519907; -0.258273045173851301;\n",
       "   -0.195763640229016822; 0.847423238539444; -0.24375224586335742;\n",
       "   -0.333253686011659278; -0.113806819964312078; 0.620753329207703097;\n",
       "   0.792232816175799104; -0.296041352244673206; -0.292163515205516866;\n",
       "   -0.930609540175271421; -0.550582775426641469; -0.33214068454279233;\n",
       "   0.57786031693203; 0.282898059448970507; 0.707656448926001547;\n",
       "   -0.40434496636888273; -0.73643118364004323; 0.534912575662190304;\n",
       "   -0.819293061439132275; 0.760416699497270865; 0.0140976905389451623;\n",
       "   -0.360464305702916; -0.794175422382349172; -0.396563045568195216;\n",
       "   -0.986613301233826068; 0.598996095521760585; -0.661465977778137315;\n",
       "   -0.21066046271624117; 0.604046955909172234; -0.685582842599424147;\n",
       "   -0.258124725104361463; 0.566700966067550382; -0.46621763737194355;\n",
       "   0.318015930135339; -0.132565346258922689; 0.857941207091534;\n",
       "   -0.736410130077171932; 0.301406795415099515; -0.88811829857407143;\n",
       "   -0.234926040228939481; 0.115769107885040246; -0.955619123183687247;\n",
       "   0.493292437632298797; -0.280843789413911082; 0.0940787753720151443;\n",
       "   0.35404231520009366; -0.0476325820650309595; -0.939681678612835469;\n",
       "   0.689884670936200206; 0.606250595236961565; 0.28332422901143961;\n",
       "   0.355537042910145096; 0.234761063508373; -0.869967441339914549;\n",
       "   0.0132668363308802162; 0.79922290547602981; 0.125483418299614846;\n",
       "   -0.269852860415593; 0.894576815064099584; -0.0923847312974648283;\n",
       "   0.977394115549829356; 0.278324843325292504; -0.97457150238025525;\n",
       "   0.231688437340487163; -0.51590082350583133; -0.855028862695382363;\n",
       "   0.148033231240180529; 0.260258282355365633; 0.93785245120301608;\n",
       "   -0.106680201322260748]\n"
      ]
     },
     "execution_count": 2,
     "metadata": {},
     "output_type": "execute_result"
    },
    {
     "data": {
      "text/plain": [
       "val y : float list =\n",
       "  [-0.356394598965148246; -0.945920000853645249; -0.552884300955627239;\n",
       "   -0.825434722037959867; 0.175658477102693666; 0.188941695258800446;\n",
       "   -0.990908309360407191; -0.673293292468106319; 0.778843062493142169;\n",
       "   0.0741795816379163808; -0.159855696130537517; -0.515376900227066059;\n",
       "   -0.415367831702535772; -0.437681096543790504; 0.0932030322944296108;\n",
       "   -0.0263927886371080334; -0.212762232826815723; -0.43514514463115872;\n",
       "   0.373057180937793276; -0.770559430452002259; -0.0472746184799310853;\n",
       "   0.585747012696682168; 0.465719646375665208; -0.114552243745221105;\n",
       "   -0.166615824422504; -0.555417679373549245; 0.920603422232418422;\n",
       "   -0.043776868232283439; -0.543824564658237808; -0.639529569309093215;\n",
       "   -0.142117304487041185; 0.73658751838802583; -0.347416840247356529;\n",
       "   -0.0889104286268305177; 0.0248804667542362745; 0.172882432975926759;\n",
       "   0.697748204969673; -0.153129070091483799; 0.339403501447424261;\n",
       "   -0.853499011202369; -0.699381207530888727; -0.293720095097009803;\n",
       "   0.0402690421002788179; 0.251757617348474794; 0.393638938945129468;\n",
       "   0.787906327452000288; -0.10843634188661766; -0.526816422090310654;\n",
       "   0.226706576802660043; -0.0313842943933109186; 0.23263818041356632;\n",
       "   -0.288787271916854937; -0.523301955414823; 0.161318097799569515;\n",
       "   -0.271789943575172721; -0.596497303621349895; -0.38578101055687064;\n",
       "   0.960213472767202703; 0.366557439101684812; 0.0564088380159690761;\n",
       "   0.0377802565900657861; 0.224989405397052922; -0.477973214347307884;\n",
       "   -0.790083309827618319; 0.820164629217935426; 0.811228143762688481;\n",
       "   0.987933941097710266; -0.474130800830117716; 0.940242052680046791;\n",
       "   0.384869729505701419; 0.348928747689300822; -0.798763497944314338;\n",
       "   0.262587709506695188; 0.954462675712869135; 0.952748801065240847;\n",
       "   0.821679278680096; 0.468719666834795934; -0.318054783652764961;\n",
       "   -0.818630169326952872; 0.378143062232629723; 0.949879222097937514;\n",
       "   0.190650408497426316; -0.108191765459666911; -0.00270642354938455121;\n",
       "   -0.20248526540164602; 0.723967933102232286; 0.309063136192787358;\n",
       "   -0.200692018862059784; -0.846514344948229081; 0.849761847456239061;\n",
       "   -0.177791085648845826; -0.584407122390759; 0.00687040881820733;\n",
       "   0.573232891616935136; 0.0139557142856644445; -0.895204894152772823;\n",
       "   0.848662798842748; 0.637870528122622349; -0.319117457964986029;\n",
       "   0.973343697989152878]\n"
      ]
     },
     "execution_count": 2,
     "metadata": {},
     "output_type": "execute_result"
    },
    {
     "data": {
      "text/plain": [
       "val f : float -> float -> float = <fun>\n"
      ]
     },
     "execution_count": 2,
     "metadata": {},
     "output_type": "execute_result"
    },
    {
     "data": {
      "text/plain": [
       "val gen_pp :\n",
       "  float list ->\n",
       "  float list ->\n",
       "  (float * float) list ->\n",
       "  (float * float) list -> (float * float) list * (float * float) list = <fun>\n"
      ]
     },
     "execution_count": 2,
     "metadata": {},
     "output_type": "execute_result"
    },
    {
     "data": {
      "text/plain": [
       "val pp : (float * float) list * (float * float) list =\n",
       "  ([(-0.987784595469628268, -0.356394598965148246);\n",
       "    (-0.333522215857828819, 0.778843062493142169);\n",
       "    (-0.791872204780667888, -0.212762232826815723);\n",
       "    (-0.106938754707225359, 0.585747012696682168);\n",
       "    (-0.620362308135317564, 0.465719646375665208);\n",
       "    (-0.769548849473776109, -0.114552243745221105);\n",
       "    (-0.292163515205516866, 0.339403501447424261);\n",
       "    (-0.40434496636888273, 0.787906327452000288);\n",
       "    (-0.73643118364004323, -0.10843634188661766);\n",
       "    (-0.819293061439132275, 0.226706576802660043);\n",
       "    (-0.396563045568195216, 0.161318097799569515);\n",
       "    (-0.986613301233826068, -0.271789943575172721);\n",
       "    (-0.21066046271624117, 0.960213472767202703);\n",
       "    (-0.685582842599424147, 0.0564088380159690761);\n",
       "    (-0.132565346258922689, 0.820164629217935426);\n",
       "    (-0.736410130077171932, 0.987933941097710266);\n",
       "    (-0.88811829857407143, 0.940242052680046791);\n",
       "    (-0.234926040228939481, 0.384869729505701419);\n",
       "    (-0.280843789413911082, 0.954462675712869135);\n",
       "    (0.0940787753720151443, 0.952748801065240847);\n",
       "    (0.35404231520009366, 0.821679278680096);\n",
       "    (-0.0476325820650309595, 0.468719666834795934);\n",
       "    (-0.939681678612835469, -0.318054783652764961);\n",
       "    (0.28332422901143961, 0.949879222097937514);\n",
       "    (-0.869967441339914549, -0.00270642354938455121);\n",
       "    (-0.0923847312974648283, 0.849761847456239061);\n",
       "    (-0.97457150238025525, 0.00687040881820733);\n",
       "    (-0.51590082350583133, 0.0139557142856644445);\n",
       "    (0.148033231240180529, 0.848662798842748);\n",
       "    (0.260258282355365633, 0.637870528122622349);\n",
       "    (-0.106680201322260748, 0.973343697989152878)],\n",
       "   [(-0.489905336965362537, -0.945920000853645249);\n",
       "    (-0.352604062839214416, -0.552884300955627239);\n",
       "    (0.0173777388624515305, -0.825434722037959867);\n",
       "    (0.00499562489414362432, 0.175658477102693666);\n",
       "    (-0.104478011317730379, 0.188941695258800446);\n",
       "    (0.791493012817419, -0.990908309360407191);\n",
       "    (0.269814172621075543, -0.673293292468106319);\n",
       "    (0.728501042862963244, 0.0741795816379163808);\n",
       "    (0.732674502192866894, -0.159855696130537517);\n",
       "    (0.868223619777464, -0.515376900227066059);\n",
       "    (0.782297003066752761, -0.415367831702535772);\n",
       "    (-0.503393821968151078, -0.437681096543790504);\n",
       "    (-0.0605919413435303, 0.0932030322944296108);\n",
       "    (-0.412568137859626427, -0.0263927886371080334);\n",
       "    (0.157749898044766246, -0.43514514463115872);\n",
       "    (0.612974931625427599, 0.373057180937793276);\n",
       "    (0.17574113528771873, -0.770559430452002259);\n",
       "    (-0.370390135820079847, -0.0472746184799310853);\n",
       "    (0.808060296490082375, -0.166615824422504);\n",
       "    (0.845621667123675591, -0.555417679373549245);\n",
       "    (0.675024501598670224, 0.920603422232418422);\n",
       "    (0.0703462091105935272, -0.043776868232283439);\n",
       "    (-0.466788489328519907, -0.543824564658237808);\n",
       "    (-0.258273045173851301, -0.639529569309093215);\n",
       "    (-0.195763640229016822, -0.142117304487041185);\n",
       "    (0.847423238539444, 0.73658751838802583);\n",
       "    (-0.24375224586335742, -0.347416840247356529);\n",
       "    (-0.333253686011659278, -0.0889104286268305177);\n",
       "    (-0.113806819964312078, 0.0248804667542362745);\n",
       "    (0.620753329207703097, 0.172882432975926759);\n",
       "    (0.792232816175799104, 0.697748204969673);\n",
       "    (-0.296041352244673206, -0.153129070091483799);\n",
       "    (-0.930609540175271421, -0.853499011202369);\n",
       "    (-0.550582775426641469, -0.699381207530888727);\n",
       "    (-0.33214068454279233, -0.293720095097009803);\n",
       "    (0.57786031693203, 0.0402690421002788179);\n",
       "    (0.282898059448970507, 0.251757617348474794);\n",
       "    (0.707656448926001547, 0.393638938945129468);\n",
       "    (0.534912575662190304, -0.526816422090310654);\n",
       "    (0.760416699497270865, -0.0313842943933109186);\n",
       "    (0.0140976905389451623, 0.23263818041356632);\n",
       "    (-0.360464305702916, -0.288787271916854937);\n",
       "    (-0.794175422382349172, -0.523301955414823);\n",
       "    (0.598996095521760585, -0.596497303621349895);\n",
       "    (-0.661465977778137315, -0.38578101055687064);\n",
       "    (0.604046955909172234, 0.366557439101684812);\n",
       "    (-0.258124725104361463, 0.0377802565900657861);\n",
       "    (0.566700966067550382, 0.224989405397052922);\n",
       "    (-0.46621763737194355, -0.477973214347307884);\n",
       "    (0.318015930135339, -0.790083309827618319);\n",
       "    (0.857941207091534, 0.811228143762688481);\n",
       "    (0.301406795415099515, -0.474130800830117716);\n",
       "    (0.115769107885040246, 0.348928747689300822);\n",
       "    (-0.955619123183687247, -0.798763497944314338);\n",
       "    (0.493292437632298797, 0.262587709506695188);\n",
       "    (0.689884670936200206, -0.818630169326952872);\n",
       "    (0.606250595236961565, 0.378143062232629723);\n",
       "    (0.355537042910145096, 0.190650408497426316);\n",
       "    (0.234761063508373, -0.108191765459666911);\n",
       "    (0.0132668363308802162, -0.20248526540164602);\n",
       "    (0.79922290547602981, 0.723967933102232286);\n",
       "    (0.125483418299614846, 0.309063136192787358);\n",
       "    (-0.269852860415593, -0.200692018862059784);\n",
       "    (0.894576815064099584, -0.846514344948229081);\n",
       "    (0.977394115549829356, -0.177791085648845826);\n",
       "    (0.278324843325292504, -0.584407122390759);\n",
       "    (0.231688437340487163, 0.573232891616935136);\n",
       "    (-0.855028862695382363, -0.895204894152772823); ...])\n"
      ]
     },
     "execution_count": 2,
     "metadata": {},
     "output_type": "execute_result"
    },
    {
     "data": {
      "text/plain": [
       "val u_pp : (float * float) list =\n",
       "  [(-0.987784595469628268, -0.356394598965148246);\n",
       "   (-0.333522215857828819, 0.778843062493142169);\n",
       "   (-0.791872204780667888, -0.212762232826815723);\n",
       "   (-0.106938754707225359, 0.585747012696682168);\n",
       "   (-0.620362308135317564, 0.465719646375665208);\n",
       "   (-0.769548849473776109, -0.114552243745221105);\n",
       "   (-0.292163515205516866, 0.339403501447424261);\n",
       "   (-0.40434496636888273, 0.787906327452000288);\n",
       "   (-0.73643118364004323, -0.10843634188661766);\n",
       "   (-0.819293061439132275, 0.226706576802660043);\n",
       "   (-0.396563045568195216, 0.161318097799569515);\n",
       "   (-0.986613301233826068, -0.271789943575172721);\n",
       "   (-0.21066046271624117, 0.960213472767202703);\n",
       "   (-0.685582842599424147, 0.0564088380159690761);\n",
       "   (-0.132565346258922689, 0.820164629217935426);\n",
       "   (-0.736410130077171932, 0.987933941097710266);\n",
       "   (-0.88811829857407143, 0.940242052680046791);\n",
       "   (-0.234926040228939481, 0.384869729505701419);\n",
       "   (-0.280843789413911082, 0.954462675712869135);\n",
       "   (0.0940787753720151443, 0.952748801065240847);\n",
       "   (0.35404231520009366, 0.821679278680096);\n",
       "   (-0.0476325820650309595, 0.468719666834795934);\n",
       "   (-0.939681678612835469, -0.318054783652764961);\n",
       "   (0.28332422901143961, 0.949879222097937514);\n",
       "   (-0.869967441339914549, -0.00270642354938455121);\n",
       "   (-0.0923847312974648283, 0.849761847456239061);\n",
       "   (-0.97457150238025525, 0.00687040881820733);\n",
       "   (-0.51590082350583133, 0.0139557142856644445);\n",
       "   (0.148033231240180529, 0.848662798842748);\n",
       "   (0.260258282355365633, 0.637870528122622349);\n",
       "   (-0.106680201322260748, 0.973343697989152878)]\n"
      ]
     },
     "execution_count": 2,
     "metadata": {},
     "output_type": "execute_result"
    },
    {
     "data": {
      "text/plain": [
       "val l_pp : (float * float) list =\n",
       "  [(-0.489905336965362537, -0.945920000853645249);\n",
       "   (-0.352604062839214416, -0.552884300955627239);\n",
       "   (0.0173777388624515305, -0.825434722037959867);\n",
       "   (0.00499562489414362432, 0.175658477102693666);\n",
       "   (-0.104478011317730379, 0.188941695258800446);\n",
       "   (0.791493012817419, -0.990908309360407191);\n",
       "   (0.269814172621075543, -0.673293292468106319);\n",
       "   (0.728501042862963244, 0.0741795816379163808);\n",
       "   (0.732674502192866894, -0.159855696130537517);\n",
       "   (0.868223619777464, -0.515376900227066059);\n",
       "   (0.782297003066752761, -0.415367831702535772);\n",
       "   (-0.503393821968151078, -0.437681096543790504);\n",
       "   (-0.0605919413435303, 0.0932030322944296108);\n",
       "   (-0.412568137859626427, -0.0263927886371080334);\n",
       "   (0.157749898044766246, -0.43514514463115872);\n",
       "   (0.612974931625427599, 0.373057180937793276);\n",
       "   (0.17574113528771873, -0.770559430452002259);\n",
       "   (-0.370390135820079847, -0.0472746184799310853);\n",
       "   (0.808060296490082375, -0.166615824422504);\n",
       "   (0.845621667123675591, -0.555417679373549245);\n",
       "   (0.675024501598670224, 0.920603422232418422);\n",
       "   (0.0703462091105935272, -0.043776868232283439);\n",
       "   (-0.466788489328519907, -0.543824564658237808);\n",
       "   (-0.258273045173851301, -0.639529569309093215);\n",
       "   (-0.195763640229016822, -0.142117304487041185);\n",
       "   (0.847423238539444, 0.73658751838802583);\n",
       "   (-0.24375224586335742, -0.347416840247356529);\n",
       "   (-0.333253686011659278, -0.0889104286268305177);\n",
       "   (-0.113806819964312078, 0.0248804667542362745);\n",
       "   (0.620753329207703097, 0.172882432975926759);\n",
       "   (0.792232816175799104, 0.697748204969673);\n",
       "   (-0.296041352244673206, -0.153129070091483799);\n",
       "   (-0.930609540175271421, -0.853499011202369);\n",
       "   (-0.550582775426641469, -0.699381207530888727);\n",
       "   (-0.33214068454279233, -0.293720095097009803);\n",
       "   (0.57786031693203, 0.0402690421002788179);\n",
       "   (0.282898059448970507, 0.251757617348474794);\n",
       "   (0.707656448926001547, 0.393638938945129468);\n",
       "   (0.534912575662190304, -0.526816422090310654);\n",
       "   (0.760416699497270865, -0.0313842943933109186);\n",
       "   (0.0140976905389451623, 0.23263818041356632);\n",
       "   (-0.360464305702916, -0.288787271916854937);\n",
       "   (-0.794175422382349172, -0.523301955414823);\n",
       "   (0.598996095521760585, -0.596497303621349895);\n",
       "   (-0.661465977778137315, -0.38578101055687064);\n",
       "   (0.604046955909172234, 0.366557439101684812);\n",
       "   (-0.258124725104361463, 0.0377802565900657861);\n",
       "   (0.566700966067550382, 0.224989405397052922);\n",
       "   (-0.46621763737194355, -0.477973214347307884);\n",
       "   (0.318015930135339, -0.790083309827618319);\n",
       "   (0.857941207091534, 0.811228143762688481);\n",
       "   (0.301406795415099515, -0.474130800830117716);\n",
       "   (0.115769107885040246, 0.348928747689300822);\n",
       "   (-0.955619123183687247, -0.798763497944314338);\n",
       "   (0.493292437632298797, 0.262587709506695188);\n",
       "   (0.689884670936200206, -0.818630169326952872);\n",
       "   (0.606250595236961565, 0.378143062232629723);\n",
       "   (0.355537042910145096, 0.190650408497426316);\n",
       "   (0.234761063508373, -0.108191765459666911);\n",
       "   (0.0132668363308802162, -0.20248526540164602);\n",
       "   (0.79922290547602981, 0.723967933102232286);\n",
       "   (0.125483418299614846, 0.309063136192787358);\n",
       "   (-0.269852860415593, -0.200692018862059784);\n",
       "   (0.894576815064099584, -0.846514344948229081);\n",
       "   (0.977394115549829356, -0.177791085648845826);\n",
       "   (0.278324843325292504, -0.584407122390759);\n",
       "   (0.231688437340487163, 0.573232891616935136);\n",
       "   (-0.855028862695382363, -0.895204894152772823);\n",
       "   (0.93785245120301608, -0.319117457964986029)]\n"
      ]
     },
     "execution_count": 2,
     "metadata": {},
     "output_type": "execute_result"
    },
    {
     "data": {
      "text/plain": [
       "val gen_labels : float list -> float list -> float list -> float list = <fun>\n"
      ]
     },
     "execution_count": 2,
     "metadata": {},
     "output_type": "execute_result"
    },
    {
     "data": {
      "text/plain": [
       "val labels : Matrix.t = <abstr>\n"
      ]
     },
     "execution_count": 2,
     "metadata": {},
     "output_type": "execute_result"
    },
    {
     "data": {
      "text/plain": [
       "val x : Matrix.t = <abstr>\n"
      ]
     },
     "execution_count": 2,
     "metadata": {},
     "output_type": "execute_result"
    },
    {
     "data": {
      "text/plain": [
       "val y : Matrix.t = <abstr>\n"
      ]
     },
     "execution_count": 2,
     "metadata": {},
     "output_type": "execute_result"
    },
    {
     "data": {
      "text/plain": [
       "val data : Matrix.t = <abstr>\n"
      ]
     },
     "execution_count": 2,
     "metadata": {},
     "output_type": "execute_result"
    },
    {
     "data": {
      "text/plain": [
       "val w : float list list =\n",
       "  [[-0.0170669965092647702; -0.0353983977873820535; 0.0432718809324131384]]\n"
      ]
     },
     "execution_count": 2,
     "metadata": {},
     "output_type": "execute_result"
    },
    {
     "name": "stderr",
     "output_type": "stream",
     "text": [
      "File \"[2]\", line 28, characters 11-71:\n",
      "28 | let f' x = let [w0 :: w1 :: [w2]] = w in (-1.) *. (w1 *. x +. w0) /. w2\n",
      "                ^^^^^^^^^^^^^^^^^^^^^^^^^^^^^^^^^^^^^^^^^^^^^^^^^^^^^^^^^^^^\n",
      "Warning 8: this pattern-matching is not exhaustive.\n",
      "Here is an example of a case that is not matched:\n",
      "((_::_::_::[])::_::_|(_::_::_::_::_)::_|(_::_::[])::_|(_::[])::_|[]::_|[])\n"
     ]
    },
    {
     "data": {
      "text/plain": [
       "val f' : float -> float = <fun>\n"
      ]
     },
     "execution_count": 2,
     "metadata": {},
     "output_type": "execute_result"
    }
   ],
   "source": [
    "(*Generate points*)\n",
    "let rec gen_x acc n = if n = 0 then acc else gen_x ((1.0 -. Random.float 2.0) :: acc) (n-1) \n",
    "let x = gen_x [] 100\n",
    "let y = gen_x [] 100 \n",
    "let f x y = if y > 0.8 *. x +. 0.4 then 1.0 else 0.0\n",
    "let rec gen_pp x_acc y_acc u_acc l_acc = \n",
    "    match x_acc with \n",
    "    | [] -> (u_acc, l_acc)\n",
    "    | x :: xs -> \n",
    "        match y_acc with \n",
    "            | [] -> assert false\n",
    "            | y :: ys -> if f x y = 1.0 then gen_pp xs ys (u_acc @ [(x, y)]) l_acc \n",
    "                         else gen_pp xs ys u_acc (l_acc @ [(x, y)])\n",
    "let pp = gen_pp x y [] []\n",
    "let u_pp = fst pp \n",
    "let l_pp = snd pp\n",
    "let rec gen_labels x_acc y_acc l_acc = \n",
    "    match x_acc with \n",
    "    | [] -> l_acc\n",
    "    | x :: xs -> \n",
    "        match y_acc with \n",
    "            | [] -> assert false\n",
    "            | y :: ys -> gen_labels xs ys (l_acc @ [f x y])\n",
    "let labels = [gen_labels x y []] |> construct |> transpose \n",
    "let x = [x] |> construct |> transpose \n",
    "let y = [y] |> construct |> transpose \n",
    "let data = concat x y \n",
    "let w = train data 0.001 labels |> matrix \n",
    "let f' x = let [w0 :: w1 :: [w2]] = w in (-1.) *. (w1 *. x +. w0) /. w2"
   ]
  },
  {
   "cell_type": "code",
   "execution_count": 3,
   "id": "traditional-transparency",
   "metadata": {},
   "outputs": [
    {
     "data": {
      "image/png": "[encoded data removed]"
     },
     "metadata": {},
     "output_type": "display_data"
    },
    {
     "data": {
      "text/plain": [
       "- : unit = ()\n"
      ]
     },
     "execution_count": 3,
     "metadata": {},
     "output_type": "execute_result"
    }
   ],
   "source": [
    "(* Plot using Archimedes *)\n",
    "let vp = A. init ~w:600. ~h:600. [\"jupyter\"] in\n",
    "    A.Axes.box vp ;\n",
    "    A.set_color vp A.Color.red ;\n",
    "    A.List.xy_pairs vp u_pp ;\n",
    "    A.set_color vp A.Color.blue ;\n",
    "    A.List.xy_pairs vp l_pp ;\n",
    "    A.set_color vp A.Color.black ;\n",
    "    A.fx vp f' (-1.0) 1.0 ;\n",
    "    A.close vp "
   ]
  },
  {
   "cell_type": "code",
   "execution_count": null,
   "id": "accurate-kernel",
   "metadata": {},
   "outputs": [],
   "source": []
  }
 ],
 "metadata": {
  "kernelspec": {
   "display_name": "OCaml cs3110-finalproj",
   "language": "OCaml",
   "name": "ocaml-jupyter"
  },
  "language_info": {
   "codemirror_mode": "text/x-ocaml",
   "file_extension": ".ml",
   "mimetype": "text/x-ocaml",
   "name": "OCaml",
   "nbconverter_exporter": null,
   "pygments_lexer": "OCaml",
   "version": "4.11.1"
  }
 },
 "nbformat": 4,
 "nbformat_minor": 5
}
