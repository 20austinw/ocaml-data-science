{
 "cells": [
  {
   "cell_type": "markdown",
   "metadata": {},
   "source": [
    "# Jupyter Notebook to test our code."
   ]
  },
  {
   "cell_type": "code",
   "execution_count": 149,
   "metadata": {},
   "outputs": [],
   "source": [
    "#require \"Csv\""
   ]
  },
  {
   "cell_type": "code",
   "execution_count": 166,
   "metadata": {},
   "outputs": [
    {
     "data": {
      "text/plain": [
       "val sum : float list -> float = <fun>\n"
      ]
     },
     "execution_count": 166,
     "metadata": {},
     "output_type": "execute_result"
    },
    {
     "data": {
      "text/plain": [
       "val mean : float list -> float = <fun>\n"
      ]
     },
     "execution_count": 166,
     "metadata": {},
     "output_type": "execute_result"
    },
    {
     "data": {
      "text/plain": [
       "val round : float -> float = <fun>\n"
      ]
     },
     "execution_count": 166,
     "metadata": {},
     "output_type": "execute_result"
    },
    {
     "data": {
      "text/plain": [
       "val percentile : float list -> float -> float = <fun>\n"
      ]
     },
     "execution_count": 166,
     "metadata": {},
     "output_type": "execute_result"
    },
    {
     "data": {
      "text/plain": [
       "val median : float list -> float = <fun>\n"
      ]
     },
     "execution_count": 166,
     "metadata": {},
     "output_type": "execute_result"
    },
    {
     "data": {
      "text/plain": [
       "val q1 : float list -> float = <fun>\n"
      ]
     },
     "execution_count": 166,
     "metadata": {},
     "output_type": "execute_result"
    },
    {
     "data": {
      "text/plain": [
       "val q3 : float list -> float = <fun>\n"
      ]
     },
     "execution_count": 166,
     "metadata": {},
     "output_type": "execute_result"
    },
    {
     "data": {
      "text/plain": [
       "val var : float list -> float = <fun>\n"
      ]
     },
     "execution_count": 166,
     "metadata": {},
     "output_type": "execute_result"
    },
    {
     "data": {
      "text/plain": [
       "val std : float list -> float = <fun>\n"
      ]
     },
     "execution_count": 166,
     "metadata": {},
     "output_type": "execute_result"
    }
   ],
   "source": [
    "let sum x = List.fold_left (fun x y -> x +. y) 0. x\n",
    "\n",
    "let mean x =\n",
    "  let len = Float.of_int (List.length x) in\n",
    "  sum x /. len\n",
    "\n",
    "let round x = floor (x +. 0.5)\n",
    "\n",
    "let percentile x perc =\n",
    "  let p = perc /. 100. in\n",
    "  let sorted_x = List.sort compare x in\n",
    "  let len = List.length x in\n",
    "  let index = p *. float_of_int (len - 1) in\n",
    "  let trun_i = int_of_float index in\n",
    "  let delta = index -. float_of_int trun_i in\n",
    "  if len = 0 then 0.\n",
    "  else if trun_i = len - 1 then List.nth sorted_x trun_i\n",
    "  else\n",
    "    ((1. -. delta) *. List.nth sorted_x trun_i)\n",
    "    +. (delta *. List.nth sorted_x (trun_i + 1))\n",
    "\n",
    "let median x = percentile x 50.\n",
    "\n",
    "let q1 x = percentile x 25.\n",
    "\n",
    "let q3 x = percentile x 75.\n",
    "\n",
    "let var x =\n",
    "  let mean_x = mean x in\n",
    "  let deviations =\n",
    "    List.map (fun e -> (e -. mean_x) *. (e -. mean_x)) x\n",
    "  in\n",
    "  mean deviations\n",
    "\n",
    "let std x = Float.sqrt (var x)"
   ]
  },
  {
   "cell_type": "code",
   "execution_count": 150,
   "metadata": {},
   "outputs": [
    {
     "data": {
      "text/plain": [
       "type dataframe = { header : string list; data : string list list; }\n"
      ]
     },
     "execution_count": 150,
     "metadata": {},
     "output_type": "execute_result"
    }
   ],
   "source": [
    "type dataframe = {\n",
    "    header : string list;\n",
    "    data : string list list;\n",
    "}"
   ]
  },
  {
   "cell_type": "code",
   "execution_count": 151,
   "metadata": {},
   "outputs": [
    {
     "data": {
      "text/plain": [
       "val loadfile : string -> dataframe = <fun>\n"
      ]
     },
     "execution_count": 151,
     "metadata": {},
     "output_type": "execute_result"
    }
   ],
   "source": [
    "let loadfile file_name = \n",
    "    let x = file_name \n",
    "    |> Csv.load \n",
    "    |> Csv.trim \n",
    "    |> Csv.square in\n",
    "    let head, dat = \n",
    "        match x with \n",
    "        | h :: d -> h, Csv.transpose d \n",
    "        | [] -> assert false in\n",
    "        { header = head; data = dat }"
   ]
  },
  {
   "cell_type": "code",
   "execution_count": 152,
   "metadata": {},
   "outputs": [
    {
     "data": {
      "text/plain": [
       "val x : dataframe =\n",
       "  {header = [\"x1\"; \"y1\"; \"x2\"; \"y2\"; \"x3\"; \"y3\"; \"x4\"; \"y4\"];\n",
       "   data =\n",
       "    [[\"10\"; \"8\"; \"13\"; \"9\"; \"11\"; \"14\"; \"6\"; \"4\"; \"12\"; \"7\"; \"5\"];\n",
       "     [\"8.04\"; \"6.95\"; \"7.58\"; \"8.81\"; \"8.33\"; \"9.96\"; \"7.24\"; \"4.26\";\n",
       "      \"10.84\"; \"4.82\"; \"5.68\"];\n",
       "     [\"10\"; \"8\"; \"13\"; \"9\"; \"11\"; \"14\"; \"6\"; \"4\"; \"12\"; \"7\"; \"5\"];\n",
       "     [\"9.14\"; \"8.14\"; \"8.74\"; \"8.77\"; \"9.26\"; \"8.1\"; \"6.13\"; \"3.1\"; \"9.13\";\n",
       "      \"7.26\"; \"4.74\"];\n",
       "     [\"10\"; \"8\"; \"13\"; \"9\"; \"11\"; \"14\"; \"6\"; \"4\"; \"12\"; \"7\"; \"5\"];\n",
       "     [\"7.46\"; \"6.77\"; \"12.74\"; \"7.11\"; \"7.81\"; \"8.84\"; \"6.08\"; \"5.39\";\n",
       "      \"8.15\"; \"6.42\"; \"5.73\"];\n",
       "     [\"8\"; \"8\"; \"8\"; \"8\"; \"8\"; \"8\"; \"8\"; \"19\"; \"8\"; \"8\"; \"8\"];\n",
       "     [\"6.58\"; \"5.76\"; \"7.71\"; \"8.84\"; \"8.47\"; \"7.04\"; \"5.25\"; \"12.5\"; \"5.56\";\n",
       "      \"7.91\"; \"6.89\"]]}\n"
      ]
     },
     "execution_count": 152,
     "metadata": {},
     "output_type": "execute_result"
    }
   ],
   "source": [
    "let x = loadfile \"quartet.csv\""
   ]
  },
  {
   "cell_type": "code",
   "execution_count": 202,
   "metadata": {},
   "outputs": [
    {
     "data": {
      "text/plain": [
       "val save_df : dataframe -> string -> unit = <fun>\n"
      ]
     },
     "execution_count": 202,
     "metadata": {},
     "output_type": "execute_result"
    }
   ],
   "source": [
    "let save_df df file_name = \n",
    "    Csv.save file_name (df.header :: (Csv.transpose df.data))"
   ]
  },
  {
   "cell_type": "code",
   "execution_count": 153,
   "metadata": {},
   "outputs": [
    {
     "data": {
      "text/plain": [
       "val print_df : dataframe -> unit = <fun>\n"
      ]
     },
     "execution_count": 153,
     "metadata": {},
     "output_type": "execute_result"
    }
   ],
   "source": [
    "let print_df df = \n",
    "    Csv.print_readable (df.header :: (Csv.transpose df.data));\n",
    "    print_endline \"\";"
   ]
  },
  {
   "cell_type": "code",
   "execution_count": 154,
   "metadata": {},
   "outputs": [
    {
     "name": "stdout",
     "output_type": "stream",
     "text": [
      "x1 y1    x2 y2   x3 y3    x4 y4\n",
      "10 8.04  10 9.14 10 7.46  8  6.58\n",
      "8  6.95  8  8.14 8  6.77  8  5.76\n",
      "13 7.58  13 8.74 13 12.74 8  7.71\n",
      "9  8.81  9  8.77 9  7.11  8  8.84\n",
      "11 8.33  11 9.26 11 7.81  8  8.47\n",
      "14 9.96  14 8.1  14 8.84  8  7.04\n",
      "6  7.24  6  6.13 6  6.08  8  5.25\n",
      "4  4.26  4  3.1  4  5.39  19 12.5\n",
      "12 10.84 12 9.13 12 8.15  8  5.56\n",
      "7  4.82  7  7.26 7  6.42  8  7.91\n",
      "5  5.68  5  4.74 5  5.73  8  6.89\n",
      "\n"
     ]
    },
    {
     "data": {
      "text/plain": [
       "- : unit = ()\n"
      ]
     },
     "execution_count": 154,
     "metadata": {},
     "output_type": "execute_result"
    }
   ],
   "source": [
    "print_df x"
   ]
  },
  {
   "cell_type": "code",
   "execution_count": 155,
   "metadata": {},
   "outputs": [
    {
     "data": {
      "text/plain": [
       "val get_encodings : string list -> (string * float) list = <fun>\n"
      ]
     },
     "execution_count": 155,
     "metadata": {},
     "output_type": "execute_result"
    }
   ],
   "source": [
    "let get_encodings string_lst = \n",
    "    let uniques = string_lst \n",
    "    |> List.map (fun x -> String.lowercase_ascii x) \n",
    "    |> List.sort_uniq compare in  \n",
    "    let len = List.length uniques in \n",
    "    let one_to_n = List.init len (fun x -> float_of_int (x + 1)) in\n",
    "    List.combine uniques one_to_n  "
   ]
  },
  {
   "cell_type": "code",
   "execution_count": 156,
   "metadata": {},
   "outputs": [
    {
     "data": {
      "text/plain": [
       "val encode : string list -> float list = <fun>\n"
      ]
     },
     "execution_count": 156,
     "metadata": {},
     "output_type": "execute_result"
    }
   ],
   "source": [
    "let encode string_lst = \n",
    "    let pairs = get_encodings string_lst in \n",
    "    let lowercase_lst = List.map \n",
    "        (fun x -> String.lowercase_ascii x) string_lst in \n",
    "    List.map (fun x -> List.assoc x pairs) lowercase_lst"
   ]
  },
  {
   "cell_type": "code",
   "execution_count": 196,
   "metadata": {},
   "outputs": [
    {
     "data": {
      "text/plain": [
       "val string_to_float : string list list -> float list list = <fun>\n"
      ]
     },
     "execution_count": 196,
     "metadata": {},
     "output_type": "execute_result"
    }
   ],
   "source": [
    "let string_to_float lst_of_str_lst = \n",
    "    let clean_up lst = \n",
    "        try List.map (fun x -> float_of_string x) lst\n",
    "        with _ -> encode lst\n",
    "    in\n",
    "    List.map (fun x -> clean_up x) lst_of_str_lst"
   ]
  },
  {
   "cell_type": "code",
   "execution_count": 157,
   "metadata": {},
   "outputs": [
    {
     "data": {
      "text/plain": [
       "val cols_to_float : dataframe -> float list list = <fun>\n"
      ]
     },
     "execution_count": 157,
     "metadata": {},
     "output_type": "execute_result"
    }
   ],
   "source": [
    "let cols_to_float df = \n",
    "    let clean_up lst = \n",
    "        try List.map (fun x -> float_of_string x) lst\n",
    "        with _ -> encode lst\n",
    "    in\n",
    "    List.map (fun x -> clean_up x) df.data "
   ]
  },
  {
   "cell_type": "code",
   "execution_count": 158,
   "metadata": {},
   "outputs": [
    {
     "data": {
      "text/plain": [
       "val pre_process : dataframe -> dataframe = <fun>\n"
      ]
     },
     "execution_count": 158,
     "metadata": {},
     "output_type": "execute_result"
    }
   ],
   "source": [
    "let pre_process df = \n",
    "    let clean_up lst = List.map \n",
    "        (fun x -> string_of_float x) lst in\n",
    "    let u_data = List.map \n",
    "        (fun x -> clean_up x) (cols_to_float df) in\n",
    "    { df with data = u_data }"
   ]
  },
  {
   "cell_type": "code",
   "execution_count": 160,
   "metadata": {},
   "outputs": [
    {
     "data": {
      "text/plain": [
       "val find_index : 'a -> 'a list -> int = <fun>\n"
      ]
     },
     "execution_count": 160,
     "metadata": {},
     "output_type": "execute_result"
    }
   ],
   "source": [
    "let rec find_index x lst = \n",
    "  match lst with \n",
    "  | [] -> failwith \"Not found\"\n",
    "  | h :: t -> if h = x then 0 else find_index x t + 1"
   ]
  },
  {
   "cell_type": "code",
   "execution_count": 161,
   "metadata": {},
   "outputs": [
    {
     "data": {
      "text/plain": [
       "val indices_from_col_lst : dataframe -> string list -> int list = <fun>\n"
      ]
     },
     "execution_count": 161,
     "metadata": {},
     "output_type": "execute_result"
    }
   ],
   "source": [
    "let indices_from_col_lst df col_lst = \n",
    "    List.map (fun x -> find_index x df.header) col_lst "
   ]
  },
  {
   "cell_type": "code",
   "execution_count": 162,
   "metadata": {},
   "outputs": [
    {
     "data": {
      "text/plain": [
       "val rename_cols : dataframe -> string list -> string list -> dataframe =\n",
       "  <fun>\n"
      ]
     },
     "execution_count": 162,
     "metadata": {},
     "output_type": "execute_result"
    }
   ],
   "source": [
    "let rename_cols df lst_to_rename updated_lst = \n",
    "    let u_header = List.map (fun x -> \n",
    "        if List.mem x lst_to_rename then\n",
    "            let index = find_index x lst_to_rename in\n",
    "            List.nth updated_lst index\n",
    "        else \n",
    "            x) df.header in\n",
    "    { df with header = u_header }"
   ]
  },
  {
   "cell_type": "code",
   "execution_count": null,
   "metadata": {},
   "outputs": [],
   "source": [
    "let rename_cols_i df lst_to_rename updated_lst = \n",
    "    let u_header = List.map (fun x -> \n",
    "        if List.mem x lst_to_rename then\n",
    "            let index = find_index x lst_to_rename in\n",
    "            List.nth updated_lst index\n",
    "        else \n",
    "            x) df.header in\n",
    "    { df with header = u_header }"
   ]
  },
  {
   "cell_type": "code",
   "execution_count": 167,
   "metadata": {},
   "outputs": [
    {
     "data": {
      "text/plain": [
       "val select_cols_helper : dataframe -> int list -> dataframe = <fun>\n"
      ]
     },
     "execution_count": 167,
     "metadata": {},
     "output_type": "execute_result"
    },
    {
     "data": {
      "text/plain": [
       "val select_cols : dataframe -> string list -> dataframe = <fun>\n"
      ]
     },
     "execution_count": 167,
     "metadata": {},
     "output_type": "execute_result"
    },
    {
     "data": {
      "text/plain": [
       "val select_cols_i : dataframe -> int list -> dataframe = <fun>\n"
      ]
     },
     "execution_count": 167,
     "metadata": {},
     "output_type": "execute_result"
    }
   ],
   "source": [
    "let select_cols_helper df indices = \n",
    "    let u_header = List.filteri \n",
    "        (fun i x -> List.mem i indices) df.header in \n",
    "    let u_data = List.filteri \n",
    "        (fun i x -> List.mem i indices) df.data in\n",
    "    { header = u_header; data = u_data }\n",
    "    \n",
    "let select_cols df col_lst = \n",
    "    let indices = indices_from_col_lst df col_lst in\n",
    "    select_cols_helper df indices\n",
    "\n",
    "let select_cols_i df indices = \n",
    "    select_cols_helper df indices"
   ]
  },
  {
   "cell_type": "code",
   "execution_count": 204,
   "metadata": {},
   "outputs": [
    {
     "data": {
      "text/plain": [
       "val filter_helper : dataframe -> int -> (string -> bool) -> dataframe = <fun>\n"
      ]
     },
     "execution_count": 204,
     "metadata": {},
     "output_type": "execute_result"
    },
    {
     "data": {
      "text/plain": [
       "val filter : dataframe -> string -> (string -> bool) -> dataframe = <fun>\n"
      ]
     },
     "execution_count": 204,
     "metadata": {},
     "output_type": "execute_result"
    },
    {
     "data": {
      "text/plain": [
       "val filter_i : dataframe -> int -> (string -> bool) -> dataframe = <fun>\n"
      ]
     },
     "execution_count": 204,
     "metadata": {},
     "output_type": "execute_result"
    }
   ],
   "source": [
    "let filter_helper df index f = \n",
    "    let column = List.nth df.data index in \n",
    "    let indices = List.mapi \n",
    "        (fun i x -> if f x then i else -1) column\n",
    "        |> List.filter (fun x -> x <> -1) in\n",
    "    let u_data = List.map \n",
    "        (fun x -> List.filteri\n",
    "            (fun i y -> List.mem i indices) x) df.data in\n",
    "    { df with data = u_data }\n",
    "    \n",
    "let filter df col f = \n",
    "    let index = find_index col df.header in \n",
    "    filter_helper df index f\n",
    "\n",
    "let filter_i df index f = \n",
    "    filter_helper df index f"
   ]
  },
  {
   "cell_type": "code",
   "execution_count": 205,
   "metadata": {},
   "outputs": [
    {
     "data": {
      "text/plain": [
       "val update_helper :\n",
       "  dataframe -> int -> (string -> bool) -> string list -> dataframe = <fun>\n"
      ]
     },
     "execution_count": 205,
     "metadata": {},
     "output_type": "execute_result"
    },
    {
     "data": {
      "text/plain": [
       "val udpate :\n",
       "  dataframe -> string -> (string -> bool) -> string list -> dataframe = <fun>\n"
      ]
     },
     "execution_count": 205,
     "metadata": {},
     "output_type": "execute_result"
    },
    {
     "data": {
      "text/plain": [
       "val update_i :\n",
       "  dataframe -> int -> (string -> bool) -> string list -> dataframe = <fun>\n"
      ]
     },
     "execution_count": 205,
     "metadata": {},
     "output_type": "execute_result"
    }
   ],
   "source": [
    "let update_helper df index f new_value = \n",
    "    let column = List.nth df.data index in \n",
    "    let indices = List.mapi \n",
    "        (fun i x -> if f x then i else -1) column\n",
    "        |> List.filter (fun x -> x <> -1) in\n",
    "    let u_data = List.map \n",
    "        (fun x -> List.filteri\n",
    "            (fun i y -> List.mem i indices) new_value) df.data in\n",
    "    { df with data = u_data }\n",
    "\n",
    "let udpate df col f new_value = \n",
    "    let index = find_index col df.header in \n",
    "    update_helper df index f new_value\n",
    "\n",
    "let update_i df index f new_value = \n",
    "    update_helper df index f new_value"
   ]
  },
  {
   "cell_type": "code",
   "execution_count": 191,
   "metadata": {},
   "outputs": [
    {
     "data": {
      "text/plain": [
       "val get_x_y :\n",
       "  dataframe -> string list -> string -> string list list * float list = <fun>\n"
      ]
     },
     "execution_count": 191,
     "metadata": {},
     "output_type": "execute_result"
    }
   ],
   "source": [
    "let get_x_y df x_lst y = \n",
    "    let u_df = pre_process df in \n",
    "    let x = (select_cols u_df x_lst).data in\n",
    "    let index = find_index y u_df.header in \n",
    "    let y = List.map (fun x -> float_of_string x) (List.nth u_df.data index) in\n",
    "    (x, y)"
   ]
  },
  {
   "cell_type": "code",
   "execution_count": 198,
   "metadata": {},
   "outputs": [
    {
     "data": {
      "text/plain": [
       "val train_test_split :\n",
       "  dataframe ->\n",
       "  string list ->\n",
       "  string ->\n",
       "  float -> float list list * float list list * float list * float list =\n",
       "  <fun>\n"
      ]
     },
     "execution_count": 198,
     "metadata": {},
     "output_type": "execute_result"
    }
   ],
   "source": [
    "let train_test_split df x y test_percent = \n",
    "    let x, y = get_x_y df x y in \n",
    "    if test_percent >= 1. then failwith \"Make sure the test_percent < 1\"\n",
    "    else\n",
    "    \n",
    "        let split_i = int_of_float \n",
    "          (float_of_int (List.length y) -. \n",
    "          (float_of_int (List.length y) /. (1. /. test_percent))) in\n",
    "          \n",
    "        let x_as_rows = Csv.transpose x in \n",
    "        let x_train = x_as_rows\n",
    "        |> List.filteri (fun i x -> i <= split_i)\n",
    "        |> Csv.transpose\n",
    "        |> string_to_float in\n",
    "        let x_test = x_as_rows\n",
    "        |> List.filteri (fun i x -> i > split_i) \n",
    "        |> Csv.transpose\n",
    "        |> string_to_float in        \n",
    "        \n",
    "        let y_train = List.filteri (fun i x -> i <= split_i) y in\n",
    "        let y_test = List.filteri (fun i x -> i > split_i) y in\n",
    "        (x_train, x_test, y_train, y_test)"
   ]
  },
  {
   "cell_type": "code",
   "execution_count": 200,
   "metadata": {},
   "outputs": [
    {
     "data": {
      "text/plain": [
       "- : float list list * float list list * float list * float list =\n",
       "([[10.; 8.; 13.; 9.; 11.; 14.; 6.; 4.]; [10.; 8.; 13.; 9.; 11.; 14.; 6.; 4.];\n",
       "  [10.; 8.; 13.; 9.; 11.; 14.; 6.; 4.]],\n",
       " [[12.; 7.; 5.]; [12.; 7.; 5.]; [12.; 7.; 5.]],\n",
       " [8.04; 6.95; 7.58; 8.81; 8.33; 9.96; 7.24; 4.26], [10.84; 4.82; 5.68])\n"
      ]
     },
     "execution_count": 200,
     "metadata": {},
     "output_type": "execute_result"
    }
   ],
   "source": [
    "train_test_split x [\"x1\"; \"x2\"; \"x3\"] \"y1\" 0.3"
   ]
  },
  {
   "cell_type": "code",
   "execution_count": 201,
   "metadata": {},
   "outputs": [
    {
     "data": {
      "text/plain": [
       "val split_with_cross_val :\n",
       "  dataframe ->\n",
       "  string list ->\n",
       "  string ->\n",
       "  float ->\n",
       "  float ->\n",
       "  float list list * float list list * float list list * float list *\n",
       "  float list * float list = <fun>\n"
      ]
     },
     "execution_count": 201,
     "metadata": {},
     "output_type": "execute_result"
    }
   ],
   "source": [
    "let split_with_cross_val df x y test_percent cross_percent = \n",
    "  let x, y = get_x_y df x y in \n",
    "  if cross_percent +. test_percent >= 1. then \n",
    "    failwith \"Make sure test_percent and cross_percent amount to less than 1\"\n",
    "  else\n",
    "  \n",
    "    let split_cr = int_of_float \n",
    "      (float_of_int (List.length y) -. \n",
    "      (float_of_int (List.length y) /. \n",
    "      (1. /. (cross_percent +. test_percent)))) in\n",
    "    let split_test = int_of_float \n",
    "      (float_of_int (List.length y) -. \n",
    "      (float_of_int (List.length y) /. \n",
    "      (1. /. test_percent))) in\n",
    "      \n",
    "    let x_as_rows = Csv.transpose x in \n",
    "    let x_validation = x_as_rows\n",
    "        |> List.filteri (fun i x -> i > split_cr && i <= split_test)\n",
    "        |> Csv.transpose\n",
    "        |> string_to_float in\n",
    "    let x_train = x_as_rows\n",
    "        |> List.filteri (fun i x -> i <= split_cr)\n",
    "        |> Csv.transpose\n",
    "        |> string_to_float in\n",
    "    let x_test = x_as_rows\n",
    "        |> List.filteri (fun i x -> i > split_test)\n",
    "        |> Csv.transpose\n",
    "        |> string_to_float in\n",
    "        \n",
    "    let y_validation = List.filteri (fun i x -> \n",
    "      i > split_cr && i <= split_test) y in\n",
    "    let y_train = List.filteri (fun i x -> i <= split_cr) y in\n",
    "    let y_test = List.filteri (fun i x -> i > split_test) y in\n",
    "    \n",
    "    (x_train, x_validation, x_test, y_train, y_validation, y_test)"
   ]
  }
 ],
 "metadata": {
  "kernelspec": {
   "display_name": "OCaml cs3110-2021sp",
   "language": "OCaml",
   "name": "ocaml-jupyter"
  },
  "language_info": {
   "codemirror_mode": "text/x-ocaml",
   "file_extension": ".ml",
   "mimetype": "text/x-ocaml",
   "name": "OCaml",
   "nbconverter_exporter": null,
   "pygments_lexer": "OCaml",
   "version": "4.11.1"
  }
 },
 "nbformat": 4,
 "nbformat_minor": 4
}
