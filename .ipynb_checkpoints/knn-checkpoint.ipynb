{
 "cells": [
  {
   "cell_type": "code",
   "execution_count": 1,
   "id": "marine-leisure",
   "metadata": {},
   "outputs": [
    {
     "name": "stderr",
     "output_type": "stream",
     "text": [
      "/home/kalagar/.opam/cs3110-finalproj/lib/ocaml/unix.cma: loaded\n",
      "/home/kalagar/.opam/cs3110-finalproj/lib/ocaml/bigarray.cma: loaded\n",
      "/home/kalagar/.opam/cs3110-finalproj/lib/cairo2: added to search path\n",
      "/home/kalagar/.opam/cs3110-finalproj/lib/cairo2/cairo.cma: loaded\n",
      "/home/kalagar/.opam/cs3110-finalproj/lib/ocaml/dynlink.cma: loaded\n",
      "/home/kalagar/.opam/cs3110-finalproj/lib/ocaml/camlp4: added to search path\n",
      "/home/kalagar/.opam/cs3110-finalproj/lib/archimedes: added to search path\n",
      "/home/kalagar/.opam/cs3110-finalproj/lib/archimedes/archimedes_internals.cma: loaded\n",
      "/home/kalagar/.opam/cs3110-finalproj/lib/archimedes/archimedes_toploop.cma: loaded\n"
     ]
    },
    {
     "name": "stdout",
     "output_type": "stream",
     "text": [
      "Cannot find file graphics.cma.\n",
      "Cannot find file archimedes_graphics.cma.\n"
     ]
    },
    {
     "name": "stderr",
     "output_type": "stream",
     "text": [
      "Module Archimedes loaded and aliased as A.\n",
      "/home/kalagar/.opam/cs3110-finalproj/lib/archimedes/archimedes_cairo.cma: loaded\n",
      "/home/kalagar/.opam/cs3110-finalproj/lib/bytes: added to search path\n",
      "/home/kalagar/.opam/cs3110-finalproj/lib/base64: added to search path\n",
      "/home/kalagar/.opam/cs3110-finalproj/lib/base64/base64.cma: loaded\n",
      "/home/kalagar/.opam/cs3110-finalproj/lib/ocaml/compiler-libs: added to search path\n",
      "/home/kalagar/.opam/cs3110-finalproj/lib/ocaml/compiler-libs/ocamlcommon.cma: loaded\n",
      "/home/kalagar/.opam/cs3110-finalproj/lib/result: added to search path\n",
      "/home/kalagar/.opam/cs3110-finalproj/lib/result/result.cma: loaded\n",
      "/home/kalagar/.opam/cs3110-finalproj/lib/ppx_deriving/runtime: added to search path\n",
      "/home/kalagar/.opam/cs3110-finalproj/lib/ppx_deriving/runtime/ppx_deriving_runtime.cma: loaded\n",
      "/home/kalagar/.opam/cs3110-finalproj/lib/ppx_deriving_yojson/runtime: added to search path\n",
      "/home/kalagar/.opam/cs3110-finalproj/lib/ppx_deriving_yojson/runtime/ppx_deriving_yojson_runtime.cma: loaded\n",
      "/home/kalagar/.opam/cs3110-finalproj/lib/uuidm: added to search path\n",
      "/home/kalagar/.opam/cs3110-finalproj/lib/uuidm/uuidm.cma: loaded\n",
      "/home/kalagar/.opam/cs3110-finalproj/lib/easy-format: added to search path\n",
      "/home/kalagar/.opam/cs3110-finalproj/lib/easy-format/easy_format.cma: loaded\n",
      "/home/kalagar/.opam/cs3110-finalproj/lib/biniou: added to search path\n",
      "/home/kalagar/.opam/cs3110-finalproj/lib/biniou/biniou.cma: loaded\n",
      "/home/kalagar/.opam/cs3110-finalproj/lib/yojson: added to search path\n",
      "/home/kalagar/.opam/cs3110-finalproj/lib/yojson/yojson.cma: loaded\n",
      "/home/kalagar/.opam/cs3110-finalproj/lib/jupyter: added to search path\n",
      "/home/kalagar/.opam/cs3110-finalproj/lib/jupyter/jupyter.cma: loaded\n",
      "/home/kalagar/.opam/cs3110-finalproj/lib/jupyter/notebook: added to search path\n",
      "/home/kalagar/.opam/cs3110-finalproj/lib/jupyter/notebook/jupyter_notebook.cma: loaded\n",
      "/home/kalagar/.opam/cs3110-finalproj/lib/jupyter-archimedes: added to search path\n",
      "/home/kalagar/.opam/cs3110-finalproj/lib/jupyter-archimedes/jupyter_archimedes.cma: loaded\n"
     ]
    },
    {
     "name": "stdout",
     "output_type": "stream",
     "text": [
      "val k : int ref = {contents = 5}\n",
      "val set_k : int -> unit = <fun>\n",
      "val vote : 'a list -> 'a = <fun>\n",
      "val euclidean_distance : float list -> float list -> float = <fun>\n",
      "val arg_sort : 'a list -> int -> int list = <fun>\n",
      "val predict : float list list -> float list list -> 'a list -> 'a list =\n",
      "  <fun>\n"
     ]
    }
   ],
   "source": [
    "#require \"jupyter-archimedes\"\n",
    "#use \"knn.ml\""
   ]
  },
  {
   "cell_type": "code",
   "execution_count": 89,
   "id": "buried-explorer",
   "metadata": {},
   "outputs": [
    {
     "data": {
      "text/plain": [
       "val train_green : float list list =\n",
       "  [[5.; 15.]; [7.2; 14.8]; [7.5; 17.4]; [6.8; 19.]; [3.4; 12.2]; [9.5; 15.]]\n"
      ]
     },
     "execution_count": 89,
     "metadata": {},
     "output_type": "execute_result"
    },
    {
     "data": {
      "text/plain": [
       "val train_blue : float list list =\n",
       "  [[15.2; 8.]; [18.2; 6.5]; [16.9; 3.4]; [14.1; 5.]; [13.4; 8.1];\n",
       "   [19.5; 4.9]]\n"
      ]
     },
     "execution_count": 89,
     "metadata": {},
     "output_type": "execute_result"
    },
    {
     "data": {
      "text/plain": [
       "val train_red : float list list =\n",
       "  [[16.; 15.]; [17.2; 12.8]; [19.5; 14.1]; [13.8; 17.]; [15.4; 11.9];\n",
       "   [18.9; 19.2]]\n"
      ]
     },
     "execution_count": 89,
     "metadata": {},
     "output_type": "execute_result"
    },
    {
     "data": {
      "text/plain": [
       "val x_train : float list list =\n",
       "  [[5.; 15.]; [7.2; 14.8]; [7.5; 17.4]; [6.8; 19.]; [3.4; 12.2]; [9.5; 15.];\n",
       "   [15.2; 8.]; [18.2; 6.5]; [16.9; 3.4]; [14.1; 5.]; [13.4; 8.1];\n",
       "   [19.5; 4.9]; [16.; 15.]; [17.2; 12.8]; [19.5; 14.1]; [13.8; 17.];\n",
       "   [15.4; 11.9]; [18.9; 19.2]]\n"
      ]
     },
     "execution_count": 89,
     "metadata": {},
     "output_type": "execute_result"
    },
    {
     "data": {
      "text/plain": [
       "val y_train : string list =\n",
       "  [\"green\"; \"green\"; \"green\"; \"green\"; \"green\"; \"green\"; \"blue\"; \"blue\";\n",
       "   \"blue\"; \"blue\"; \"blue\"; \"blue\"; \"red\"; \"red\"; \"red\"; \"red\"; \"red\"; \"red\"]\n"
      ]
     },
     "execution_count": 89,
     "metadata": {},
     "output_type": "execute_result"
    },
    {
     "data": {
      "text/plain": [
       "val gen_test_values : float list list -> int -> int -> float list list =\n",
       "  <fun>\n"
      ]
     },
     "execution_count": 89,
     "metadata": {},
     "output_type": "execute_result"
    },
    {
     "data": {
      "text/plain": [
       "val x_test : float list list =\n",
       "  [[5.95298655546038358; 18.8078021743412833];\n",
       "   [17.9807313846839492; 18.0209532674437298];\n",
       "   [3.95152869019149655; 9.87715148937867582];\n",
       "   [4.97956892172305121; 1.60167175020142905];\n",
       "   [8.93511469264341684; 0.398882142658832928];\n",
       "   [4.66996068233084216; 18.6318634017237699];\n",
       "   [16.0393721050777707; 13.7874617863805327]]\n"
      ]
     },
     "execution_count": 89,
     "metadata": {},
     "output_type": "execute_result"
    },
    {
     "data": {
      "text/plain": [
       "val y_preds : string list =\n",
       "  [\"green\"; \"red\"; \"green\"; \"blue\"; \"blue\"; \"green\"; \"red\"]\n"
      ]
     },
     "execution_count": 89,
     "metadata": {},
     "output_type": "execute_result"
    },
    {
     "data": {
      "text/plain": [
       "val pp_labeled : (float * float) list =\n",
       "  [(5., 15.); (7.2, 14.8); (7.5, 17.4); (6.8, 19.); (3.4, 12.2); (9.5, 15.);\n",
       "   (15.2, 8.); (18.2, 6.5); (16.9, 3.4); (14.1, 5.); (13.4, 8.1);\n",
       "   (19.5, 4.9); (16., 15.); (17.2, 12.8); (19.5, 14.1); (13.8, 17.);\n",
       "   (15.4, 11.9); (18.9, 19.2)]\n"
      ]
     },
     "execution_count": 89,
     "metadata": {},
     "output_type": "execute_result"
    },
    {
     "data": {
      "text/plain": [
       "val pp_test : (float * float) list =\n",
       "  [(5.95298655546038358, 18.8078021743412833);\n",
       "   (17.9807313846839492, 18.0209532674437298);\n",
       "   (3.95152869019149655, 9.87715148937867582);\n",
       "   (4.97956892172305121, 1.60167175020142905);\n",
       "   (8.93511469264341684, 0.398882142658832928);\n",
       "   (4.66996068233084216, 18.6318634017237699);\n",
       "   (16.0393721050777707, 13.7874617863805327)]\n"
      ]
     },
     "execution_count": 89,
     "metadata": {},
     "output_type": "execute_result"
    }
   ],
   "source": [
    "(* creating a simple training set *)\n",
    "let train_green = [[5.;15.;];[7.2;14.8];[7.5;17.4;];[6.8;19.0];[3.4;12.2];[9.5;15.];]\n",
    "let train_blue = [[15.2;8.;];[18.2;6.5];[16.9;3.4;];[14.1;5.0];[13.4;8.1];[19.5;4.9];]\n",
    "let train_red = [[16.;15.;];[17.2;12.8];[19.5;14.1;];[13.8;17.0];[15.4;11.9];[18.9;19.2];]\n",
    "let x_train = train_green @ train_blue @ train_red\n",
    "let y_train = List.init 6 (fun x -> \"green\") @ List.init 6 (fun x -> \"blue\") @ List.init 6 (fun x -> \"red\")\n",
    "\n",
    "\n",
    "let rec gen_test_values acc lo hi = \n",
    "if hi < lo then acc else\n",
    "gen_test_values ([Random.float 20.; Random.float 20.] :: acc) (lo + 1) hi\n",
    "\n",
    "\n",
    "let x_test = gen_test_values [] 0 6\n",
    "\n",
    "(* get the knn prediction *)\n",
    "let y_preds = predict x_test x_train y_train\n",
    "\n",
    "(* pretty print for archimedes *)\n",
    "let pp_labeled = List.map (fun x -> ((List.nth x 0),(List.nth x 1))) x_train\n",
    "let pp_test = List.map (fun x -> ((List.nth x 0),(List.nth x 1))) x_test"
   ]
  },
  {
   "cell_type": "code",
   "execution_count": 90,
   "id": "engaged-termination",
   "metadata": {},
   "outputs": [
    {
     "data": {
      "image/png": "[encoded data removed]"
     },
     "metadata": {},
     "output_type": "display_data"
    },
    {
     "data": {
      "text/plain": [
       "- : unit = ()\n"
      ]
     },
     "execution_count": 90,
     "metadata": {},
     "output_type": "execute_result"
    }
   ],
   "source": [
    "(* Plot using Archimedes \n",
    "dark colors are the algos prediction\n",
    "*)\n",
    "let vp = A. init ~w:600. ~h:600. [\"jupyter\"] in\n",
    "    A.Axes.box vp ;\n",
    "    for i = 0 to pred (List.length pp_train) do \n",
    "        let color = List.nth y_train i in\n",
    "        if color = \"red\" then\n",
    "            A.set_color vp A.Color.red ;\n",
    "        if color = \"green\" then\n",
    "            A.set_color vp A.Color.green ;\n",
    "        if color = \"blue\" then\n",
    "            A.set_color vp A.Color.blue ;\n",
    "        A.List.xy_pairs vp [(List.nth pp_train i)] ;\n",
    "    done;\n",
    "    for i = 0 to pred (List.length pp_test) do \n",
    "        let color = List.nth y_preds i in\n",
    "        if color = \"red\" then\n",
    "            A.set_color vp (A.Color.rgb 0.5 0. 0.) ;\n",
    "        if color = \"green\" then\n",
    "            A.set_color vp (A.Color.rgb 0. 0.5 0.) ;\n",
    "        if color = \"blue\" then\n",
    "            A.set_color vp (A.Color.rgb 0. 0. 0.5) ;\n",
    "        A.List.xy_pairs vp [(List.nth pp_test i)] ;\n",
    "    done;\n",
    "    A.close vp"
   ]
  },
  {
   "cell_type": "code",
   "execution_count": null,
   "id": "endangered-significance",
   "metadata": {
    "scrolled": true
   },
   "outputs": [],
   "source": []
  },
  {
   "cell_type": "code",
   "execution_count": null,
   "id": "nonprofit-horse",
   "metadata": {},
   "outputs": [],
   "source": []
  }
 ],
 "metadata": {
  "kernelspec": {
   "display_name": "OCaml cs3110-finalproj",
   "language": "OCaml",
   "name": "ocaml-jupyter"
  },
  "language_info": {
   "codemirror_mode": "text/x-ocaml",
   "file_extension": ".ml",
   "mimetype": "text/x-ocaml",
   "name": "OCaml",
   "nbconverter_exporter": null,
   "pygments_lexer": "OCaml",
   "version": "4.11.1"
  }
 },
 "nbformat": 4,
 "nbformat_minor": 5
}
