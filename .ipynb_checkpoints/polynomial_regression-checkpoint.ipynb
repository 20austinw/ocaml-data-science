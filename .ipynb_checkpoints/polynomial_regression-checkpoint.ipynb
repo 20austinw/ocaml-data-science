{
 "cells": [
  {
   "cell_type": "markdown",
   "metadata": {},
   "source": [
    "# Polynomial regression demo"
   ]
  },
  {
   "cell_type": "code",
   "execution_count": 1,
   "metadata": {},
   "outputs": [
    {
     "name": "stderr",
     "output_type": "stream",
     "text": [
      "/home/austinw/.opam/cs3110-2021sp/lib/ocaml/unix.cma: loaded\n",
      "/home/austinw/.opam/cs3110-2021sp/lib/ocaml/bigarray.cma: loaded\n",
      "/home/austinw/.opam/cs3110-2021sp/lib/cairo2: added to search path\n",
      "/home/austinw/.opam/cs3110-2021sp/lib/cairo2/cairo.cma: loaded\n",
      "/home/austinw/.opam/cs3110-2021sp/lib/ocaml/dynlink.cma: loaded\n",
      "/home/austinw/.opam/cs3110-2021sp/lib/ocaml/camlp4: added to search path\n",
      "/home/austinw/.opam/cs3110-2021sp/lib/archimedes: added to search path\n",
      "/home/austinw/.opam/cs3110-2021sp/lib/archimedes/archimedes_internals.cma: loaded\n",
      "/home/austinw/.opam/cs3110-2021sp/lib/archimedes/archimedes_toploop.cma: loaded\n"
     ]
    },
    {
     "name": "stdout",
     "output_type": "stream",
     "text": [
      "Cannot find file graphics.cma.\n",
      "Cannot find file archimedes_graphics.cma.\n"
     ]
    },
    {
     "name": "stderr",
     "output_type": "stream",
     "text": [
      "Module Archimedes loaded and aliased as A.\n",
      "/home/austinw/.opam/cs3110-2021sp/lib/archimedes/archimedes_cairo.cma: loaded\n",
      "/home/austinw/.opam/cs3110-2021sp/lib/bytes: added to search path\n",
      "/home/austinw/.opam/cs3110-2021sp/lib/base64: added to search path\n",
      "/home/austinw/.opam/cs3110-2021sp/lib/base64/base64.cma: loaded\n",
      "/home/austinw/.opam/cs3110-2021sp/lib/ocaml/compiler-libs: added to search path\n",
      "/home/austinw/.opam/cs3110-2021sp/lib/ocaml/compiler-libs/ocamlcommon.cma: loaded\n",
      "/home/austinw/.opam/cs3110-2021sp/lib/result: added to search path\n",
      "/home/austinw/.opam/cs3110-2021sp/lib/result/result.cma: loaded\n",
      "/home/austinw/.opam/cs3110-2021sp/lib/ppx_deriving/runtime: added to search path\n",
      "/home/austinw/.opam/cs3110-2021sp/lib/ppx_deriving/runtime/ppx_deriving_runtime.cma: loaded\n",
      "/home/austinw/.opam/cs3110-2021sp/lib/ppx_deriving_yojson/runtime: added to search path\n",
      "/home/austinw/.opam/cs3110-2021sp/lib/ppx_deriving_yojson/runtime/ppx_deriving_yojson_runtime.cma: loaded\n",
      "/home/austinw/.opam/cs3110-2021sp/lib/uuidm: added to search path\n",
      "/home/austinw/.opam/cs3110-2021sp/lib/uuidm/uuidm.cma: loaded\n",
      "/home/austinw/.opam/cs3110-2021sp/lib/easy-format: added to search path\n",
      "/home/austinw/.opam/cs3110-2021sp/lib/easy-format/easy_format.cma: loaded\n",
      "/home/austinw/.opam/cs3110-2021sp/lib/biniou: added to search path\n",
      "/home/austinw/.opam/cs3110-2021sp/lib/biniou/biniou.cma: loaded\n",
      "/home/austinw/.opam/cs3110-2021sp/lib/yojson: added to search path\n",
      "/home/austinw/.opam/cs3110-2021sp/lib/yojson/yojson.cma: loaded\n",
      "/home/austinw/.opam/cs3110-2021sp/lib/jupyter: added to search path\n",
      "/home/austinw/.opam/cs3110-2021sp/lib/jupyter/jupyter.cma: loaded\n",
      "/home/austinw/.opam/cs3110-2021sp/lib/jupyter/notebook: added to search path\n",
      "/home/austinw/.opam/cs3110-2021sp/lib/jupyter/notebook/jupyter_notebook.cma: loaded\n",
      "/home/austinw/.opam/cs3110-2021sp/lib/jupyter-archimedes: added to search path\n",
      "/home/austinw/.opam/cs3110-2021sp/lib/jupyter-archimedes/jupyter_archimedes.cma: loaded\n"
     ]
    },
    {
     "name": "stdout",
     "output_type": "stream",
     "text": [
      "type t = { dimensions : int * int; matrix : float list list; }\n",
      "exception InvalidDimensions of string\n",
      "val dim : t -> int * int = <fun>\n",
      "val matrix : t -> float list list = <fun>\n",
      "val fill : int -> int -> float -> t = <fun>\n",
      "val zero : int -> int -> t = <fun>\n",
      "val eye : int -> t = <fun>\n",
      "val transpose : t -> t = <fun>\n",
      "val mult : t -> t -> t = <fun>\n",
      "val to_array : 'a list list -> 'a array array = <fun>\n",
      "val to_list : 'a array array -> 'a list list = <fun>\n",
      "val swap : 'a array -> int -> int -> unit = <fun>\n",
      "val rref : t -> t = <fun>\n",
      "val construct : float list list -> t = <fun>\n",
      "val lu_decomp : t -> t * t = <fun>\n",
      "val concat : t -> t -> t = <fun>\n",
      "val invert : t -> t = <fun>\n",
      "val scale : t -> float -> t = <fun>\n",
      "val det : t -> float = <fun>\n",
      "val magnitude : t -> float = <fun>\n",
      "val normalize : t -> t = <fun>\n",
      "val eigen : t -> bool -> float * t = <fun>\n",
      "val elem_pow : t -> float -> t = <fun>\n",
      "val pinv : t -> t = <fun>\n",
      "val op : t -> t -> (float -> float -> float) -> t = <fun>\n",
      "val dot : t -> t -> float = <fun>\n",
      "val w : Matrix.t ref = {contents = <abstr>}\n",
      "val fit : Matrix.t -> Matrix.t -> int -> Matrix.t = <fun>\n",
      "val predict : Matrix.t -> Matrix.t = <fun>\n"
     ]
    },
    {
     "data": {
      "text/plain": [
       "val gen_x : float list -> int -> float list = <fun>\n"
      ]
     },
     "execution_count": 1,
     "metadata": {},
     "output_type": "execute_result"
    },
    {
     "data": {
      "text/plain": [
       "val x : float list =\n",
       "  [0.101688094042919619; 0.122984469012427197; 0.182296020705965151;\n",
       "   0.353658484299334885; 0.343752279186662235; 0.73875464774859867;\n",
       "   0.145150587727866959; 0.548024423248013; 0.936972078790857088;\n",
       "   0.553342435789496712; 0.405846492514545409; 0.197258013871195265;\n",
       "   0.769090649304921103; 0.211722928252812775; 0.932644076620087081;\n",
       "   0.577937843416279518; 0.419360116364394353; 0.597694935055364196;\n",
       "   0.749096255104515829; 0.579500148078751165; 0.915157690380255295;\n",
       "   0.803441131185848256; 0.472254844661787632; 0.0273932174614894344;\n",
       "   0.39113469272421586; 0.246883261758138184; 0.492197653639175725;\n",
       "   0.166524818123565732; 0.157367929690543; 0.483380133677635104;\n",
       "   0.0316685233695118626; 0.425143022404428472; 0.342886270975910235;\n",
       "   0.158616737899402754; 0.349337040677703825; 0.787476383759308396;\n",
       "   0.526831916680525425; 0.0543337777355627632; 0.644372720094592566;\n",
       "   0.446149703875021; 0.448642370613939634; 0.681416199088335395;\n",
       "   0.94117948928081574; 0.723279379384551335; 0.915070790402090939;\n",
       "   0.603291556499955806; 0.958155126619581354; 0.218871980216832768;\n",
       "   0.189690627758836161; 0.621782178861704726; 0.655611788124948691;\n",
       "   0.83617861622507661; 0.946736670006241399; 0.11383652871469159;\n",
       "   0.445869273165942381; 0.229986344534355902; 0.949956602331173849;\n",
       "   0.817096202402940897; 0.0880111661680813701; 0.118531932199720608;\n",
       "   0.8325414951081751; 0.847252477414604188; 0.592428100826491111;\n",
       "   0.818465121976586274; 0.211226703742655036; 0.496757213645085127;\n",
       "   0.364339995022301077; 0.585838587370916; 0.396738903386051667;\n",
       "   0.695160138597313848; 0.443760403086986943; 0.96342429037457189;\n",
       "   0.742921337569274587; 0.432809140040054163; 0.739032127567175401;\n",
       "   0.442048805987619253; 0.434251059282232232; 0.364903870030474253;\n",
       "   0.852843957976235245; 0.989471164134802295; 0.503448824715183707;\n",
       "   0.284781173110284558; 0.190992835536962141; 0.111987435368130134;\n",
       "   0.164995965293556063; 0.31879778915786372; 0.354650655267715831;\n",
       "   0.640323542612021; 0.0788878951031866671; 0.122772090696960448;\n",
       "   0.717448457883375634; 0.962051018735133767; 0.650697218399885702;\n",
       "   0.379650248315225591; 0.620403618538238888; 0.261243195533268857;\n",
       "   0.608502970047496761; 0.870774760680485871; 0.274945968290299103;\n",
       "   0.192374900121752429]\n"
      ]
     },
     "execution_count": 1,
     "metadata": {},
     "output_type": "execute_result"
    },
    {
     "data": {
      "text/plain": [
       "val gen_y : float list -> float list -> float list = <fun>\n"
      ]
     },
     "execution_count": 1,
     "metadata": {},
     "output_type": "execute_result"
    },
    {
     "data": {
      "text/plain": [
       "val y : float list =\n",
       "  [-1.48444636167006494; -1.35883105282936256; -1.78558991811576662;\n",
       "   -1.81679354972032647; -1.9411850535446844; -1.90751777794150668;\n",
       "   -1.51064749636794371; -1.99357131006255406; -1.92078374981137756;\n",
       "   -2.02421699140399713; -1.99130810117571544; -1.77230260937924289;\n",
       "   -1.95095967938119874; -1.77449942498560831; -1.91213596573625066;\n",
       "   -2.13915208216625929; -1.99112357966462872; -2.01999311380929036;\n",
       "   -2.16972714886249518; -2.23464113183291957; -1.78615182835170172;\n",
       "   -2.04880683280341858; -2.16996402929190246; -1.34441336551343138;\n",
       "   -1.92789494183113019; -1.79148254738981394; -2.11367632437401243;\n",
       "   -1.54797089439551705; -1.56781261224478596; -1.97231302299838829;\n",
       "   -1.38753042125418768; -1.93046614988538701; -1.99777924395012807;\n",
       "   -1.45918784973570759; -1.87439235203971544; -2.12673513044004459;\n",
       "   -2.22759822574944399; -1.25002442841126737; -1.96534342901788173;\n",
       "   -2.059079542232646; -2.17904842289989853; -1.94028609741971314;\n",
       "   -1.91451491943687557; -2.00975197167220765; -1.82465565333352;\n",
       "   -2.02637981732708683; -1.89641339324704261; -1.56794126539879053;\n",
       "   -1.54418203842541102; -2.22142457751160194; -2.23335860819436949;\n",
       "   -2.01423874316696372; -1.6576253837607946; -1.54420585262253152;\n",
       "   -2.02115495834816672; -1.7219932303576384; -1.67578316839004882;\n",
       "   -1.91779000429536528; -1.47061469842251147; -1.60591245726858034;\n",
       "   -2.02496648283318859; -1.84743408350124616; -2.04307982754569917;\n",
       "   -1.89653887024910173; -1.76529907696081634; -2.09208559215115919;\n",
       "   -1.94004263832464208; -2.21108539325805831; -1.89933135467808878;\n",
       "   -1.98920847208622953; -2.14432887161742025; -1.71321431279915193;\n",
       "   -2.10170651081745152; -2.09225922821310473; -2.11838364285305625;\n",
       "   -1.95212377771902634; -1.90903649572612522; -1.93084620116153838;\n",
       "   -1.98516213400956465; -1.69096747331135178; -1.94498054623727401;\n",
       "   -1.916837666077712; -1.55999701949047442; -1.459656622039047;\n",
       "   -1.74554789960691692; -1.79016503804555982; -1.88700194432675894;\n",
       "   -2.16749531945700635; -1.50274517482478487; -1.6050134205466664;\n",
       "   -2.16157696559546197; -1.90653962946657196; -2.03130534939772289;\n",
       "   -1.91888275186694601; -2.00437188877958761; -1.88510697691194;\n",
       "   -1.97064207172619743; -1.84228276712143613; -1.70419286210614951;\n",
       "   -1.77751721194365686]\n"
      ]
     },
     "execution_count": 1,
     "metadata": {},
     "output_type": "execute_result"
    },
    {
     "data": {
      "text/plain": [
       "val gen_pp : ('a * 'b) list -> 'a list -> 'b list -> ('a * 'b) list = <fun>\n"
      ]
     },
     "execution_count": 1,
     "metadata": {},
     "output_type": "execute_result"
    },
    {
     "data": {
      "text/plain": [
       "val pp : (float * float) list =\n",
       "  [(0.192374900121752429, -1.77751721194365686);\n",
       "   (0.274945968290299103, -1.70419286210614951);\n",
       "   (0.870774760680485871, -1.84228276712143613);\n",
       "   (0.608502970047496761, -1.97064207172619743);\n",
       "   (0.261243195533268857, -1.88510697691194);\n",
       "   (0.620403618538238888, -2.00437188877958761);\n",
       "   (0.379650248315225591, -1.91888275186694601);\n",
       "   (0.650697218399885702, -2.03130534939772289);\n",
       "   (0.962051018735133767, -1.90653962946657196);\n",
       "   (0.717448457883375634, -2.16157696559546197);\n",
       "   (0.122772090696960448, -1.6050134205466664);\n",
       "   (0.0788878951031866671, -1.50274517482478487);\n",
       "   (0.640323542612021, -2.16749531945700635);\n",
       "   (0.354650655267715831, -1.88700194432675894);\n",
       "   (0.31879778915786372, -1.79016503804555982);\n",
       "   (0.164995965293556063, -1.74554789960691692);\n",
       "   (0.111987435368130134, -1.459656622039047);\n",
       "   (0.190992835536962141, -1.55999701949047442);\n",
       "   (0.284781173110284558, -1.916837666077712);\n",
       "   (0.503448824715183707, -1.94498054623727401);\n",
       "   (0.989471164134802295, -1.69096747331135178);\n",
       "   (0.852843957976235245, -1.98516213400956465);\n",
       "   (0.364903870030474253, -1.93084620116153838);\n",
       "   (0.434251059282232232, -1.90903649572612522);\n",
       "   (0.442048805987619253, -1.95212377771902634);\n",
       "   (0.739032127567175401, -2.11838364285305625);\n",
       "   (0.432809140040054163, -2.09225922821310473);\n",
       "   (0.742921337569274587, -2.10170651081745152);\n",
       "   (0.96342429037457189, -1.71321431279915193);\n",
       "   (0.443760403086986943, -2.14432887161742025);\n",
       "   (0.695160138597313848, -1.98920847208622953);\n",
       "   (0.396738903386051667, -1.89933135467808878);\n",
       "   (0.585838587370916, -2.21108539325805831);\n",
       "   (0.364339995022301077, -1.94004263832464208);\n",
       "   (0.496757213645085127, -2.09208559215115919);\n",
       "   (0.211226703742655036, -1.76529907696081634);\n",
       "   (0.818465121976586274, -1.89653887024910173);\n",
       "   (0.592428100826491111, -2.04307982754569917);\n",
       "   (0.847252477414604188, -1.84743408350124616);\n",
       "   (0.8325414951081751, -2.02496648283318859);\n",
       "   (0.118531932199720608, -1.60591245726858034);\n",
       "   (0.0880111661680813701, -1.47061469842251147);\n",
       "   (0.817096202402940897, -1.91779000429536528);\n",
       "   (0.949956602331173849, -1.67578316839004882);\n",
       "   (0.229986344534355902, -1.7219932303576384);\n",
       "   (0.445869273165942381, -2.02115495834816672);\n",
       "   (0.11383652871469159, -1.54420585262253152);\n",
       "   (0.946736670006241399, -1.6576253837607946);\n",
       "   (0.83617861622507661, -2.01423874316696372);\n",
       "   (0.655611788124948691, -2.23335860819436949);\n",
       "   (0.621782178861704726, -2.22142457751160194);\n",
       "   (0.189690627758836161, -1.54418203842541102);\n",
       "   (0.218871980216832768, -1.56794126539879053);\n",
       "   (0.958155126619581354, -1.89641339324704261);\n",
       "   (0.603291556499955806, -2.02637981732708683);\n",
       "   (0.915070790402090939, -1.82465565333352);\n",
       "   (0.723279379384551335, -2.00975197167220765);\n",
       "   (0.94117948928081574, -1.91451491943687557);\n",
       "   (0.681416199088335395, -1.94028609741971314);\n",
       "   (0.448642370613939634, -2.17904842289989853);\n",
       "   (0.446149703875021, -2.059079542232646);\n",
       "   (0.644372720094592566, -1.96534342901788173);\n",
       "   (0.0543337777355627632, -1.25002442841126737);\n",
       "   (0.526831916680525425, -2.22759822574944399);\n",
       "   (0.787476383759308396, -2.12673513044004459);\n",
       "   (0.349337040677703825, -1.87439235203971544);\n",
       "   (0.158616737899402754, -1.45918784973570759);\n",
       "   (0.342886270975910235, -1.99777924395012807);\n",
       "   (0.425143022404428472, -1.93046614988538701);\n",
       "   (0.0316685233695118626, -1.38753042125418768);\n",
       "   (0.483380133677635104, -1.97231302299838829);\n",
       "   (0.157367929690543, -1.56781261224478596);\n",
       "   (0.166524818123565732, -1.54797089439551705);\n",
       "   (0.492197653639175725, -2.11367632437401243);\n",
       "   (0.246883261758138184, -1.79148254738981394);\n",
       "   (0.39113469272421586, -1.92789494183113019);\n",
       "   (0.0273932174614894344, -1.34441336551343138);\n",
       "   (0.472254844661787632, -2.16996402929190246);\n",
       "   (0.803441131185848256, -2.04880683280341858);\n",
       "   (0.915157690380255295, -1.78615182835170172);\n",
       "   (0.579500148078751165, -2.23464113183291957);\n",
       "   (0.749096255104515829, -2.16972714886249518);\n",
       "   (0.597694935055364196, -2.01999311380929036);\n",
       "   (0.419360116364394353, -1.99112357966462872);\n",
       "   (0.577937843416279518, -2.13915208216625929);\n",
       "   (0.932644076620087081, -1.91213596573625066);\n",
       "   (0.211722928252812775, -1.77449942498560831);\n",
       "   (0.769090649304921103, -1.95095967938119874);\n",
       "   (0.197258013871195265, -1.77230260937924289);\n",
       "   (0.405846492514545409, -1.99130810117571544);\n",
       "   (0.553342435789496712, -2.02421699140399713);\n",
       "   (0.936972078790857088, -1.92078374981137756);\n",
       "   (0.548024423248013, -1.99357131006255406);\n",
       "   (0.145150587727866959, -1.51064749636794371);\n",
       "   (0.73875464774859867, -1.90751777794150668);\n",
       "   (0.343752279186662235, -1.9411850535446844);\n",
       "   (0.353658484299334885, -1.81679354972032647);\n",
       "   (0.182296020705965151, -1.78558991811576662);\n",
       "   (0.122984469012427197, -1.35883105282936256); (0.101688094042919619, ...);\n",
       "   ...]\n"
      ]
     },
     "execution_count": 1,
     "metadata": {},
     "output_type": "execute_result"
    },
    {
     "data": {
      "text/plain": [
       "val x : Matrix.t = <abstr>\n"
      ]
     },
     "execution_count": 1,
     "metadata": {},
     "output_type": "execute_result"
    },
    {
     "data": {
      "text/plain": [
       "val y : Matrix.t = <abstr>\n"
      ]
     },
     "execution_count": 1,
     "metadata": {},
     "output_type": "execute_result"
    },
    {
     "data": {
      "text/plain": [
       "val w : float list list =\n",
       "  [[-1.20842305250749726]; [-2.87767324752185472]; [2.36578280571040178]]\n"
      ]
     },
     "execution_count": 1,
     "metadata": {},
     "output_type": "execute_result"
    },
    {
     "data": {
      "text/plain": [
       "val f : float -> float = <fun>\n"
      ]
     },
     "execution_count": 1,
     "metadata": {},
     "output_type": "execute_result"
    }
   ],
   "source": [
    "#directory \"_build\"\n",
    "#load \"matrix.cmo\"\n",
    "#require \"jupyter-archimedes\"\n",
    "#use \"matrix.ml\"\n",
    "#use \"polynomial_regression.ml\"\n",
    "\n",
    "(* Generating training data for quadratic fit *)\n",
    "(* Generate x values for training *)\n",
    "let rec gen_x acc n = if n = 0 then acc else gen_x (Random.float 1.0 :: acc) (n-1) \n",
    "let x = gen_x [] 100\n",
    "(* Generate y values with noise for training *)\n",
    "let rec gen_y acc lst = \n",
    "    match lst with \n",
    "    | [] -> acc \n",
    "    | x :: xs -> gen_y (acc @ [2.6 *. x ** 2. -. 3.14 *. x -. 1.3 +. (Random.float 0.3)]) xs \n",
    "let y = gen_y [] x\n",
    "(*Generate (x, y) pair list for plotting *)\n",
    "let rec gen_pp acc x_lst y_lst = \n",
    "    match x_lst with \n",
    "    | [] -> acc \n",
    "    | x :: xs -> \n",
    "        match y_lst with \n",
    "        | [] -> assert false\n",
    "        | y :: ys -> \n",
    "            gen_pp ((x, y) :: acc) xs ys\n",
    "let pp = gen_pp [] x y\n",
    "\n",
    "(* Transforming training data to matrix *)\n",
    "let x = [x] |> construct |> transpose \n",
    "let y = [y] |> construct |> transpose \n",
    "let w = fit x y 2 |> matrix\n",
    "\n",
    "(* Function for graphing *)\n",
    "let f x = \n",
    "    match w with \n",
    "    | [a] :: [b] :: [c] :: [] -> a +. b *. x +. c *. x ** 2.\n",
    "    | _ -> assert false"
   ]
  },
  {
   "cell_type": "code",
   "execution_count": 2,
   "metadata": {},
   "outputs": [
    {
     "data": {
      "image/png": "[encoded data removed]"
     },
     "metadata": {},
     "output_type": "display_data"
    },
    {
     "data": {
      "text/plain": [
       "- : unit = ()\n"
      ]
     },
     "execution_count": 2,
     "metadata": {},
     "output_type": "execute_result"
    }
   ],
   "source": [
    "(* Plot using Archimedes *)\n",
    "let vp = A. init ~w:600. ~h:600. [\"jupyter\"] in\n",
    "    A.Axes.box vp ;\n",
    "    A.set_color vp A.Color.red ;\n",
    "    A.List.xy_pairs vp pp ;\n",
    "    A.set_color vp A.Color.blue ;\n",
    "    A.fx vp f 0.0 1.0 ;\n",
    "    A.close vp "
   ]
  },
  {
   "cell_type": "code",
   "execution_count": null,
   "metadata": {},
   "outputs": [],
   "source": []
  }
 ],
 "metadata": {
  "kernelspec": {
   "display_name": "OCaml cs3110-finalproj",
   "language": "OCaml",
   "name": "ocaml-jupyter"
  },
  "language_info": {
   "codemirror_mode": "text/x-ocaml",
   "file_extension": ".ml",
   "mimetype": "text/x-ocaml",
   "name": "OCaml",
   "nbconverter_exporter": null,
   "pygments_lexer": "OCaml",
   "version": "4.11.1"
  }
 },
 "nbformat": 4,
 "nbformat_minor": 4
}
