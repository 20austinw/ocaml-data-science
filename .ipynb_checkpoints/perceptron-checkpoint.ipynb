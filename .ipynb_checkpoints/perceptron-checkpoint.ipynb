{
 "cells": [
  {
   "cell_type": "code",
   "execution_count": 1,
   "id": "metric-winning",
   "metadata": {},
   "outputs": [
    {
     "name": "stderr",
     "output_type": "stream",
     "text": [
      "/home/austinw/.opam/cs3110-2021sp/lib/ocaml/unix.cma: loaded\n",
      "/home/austinw/.opam/cs3110-2021sp/lib/ocaml/bigarray.cma: loaded\n",
      "/home/austinw/.opam/cs3110-2021sp/lib/cairo2: added to search path\n",
      "/home/austinw/.opam/cs3110-2021sp/lib/cairo2/cairo.cma: loaded\n",
      "/home/austinw/.opam/cs3110-2021sp/lib/ocaml/dynlink.cma: loaded\n",
      "/home/austinw/.opam/cs3110-2021sp/lib/ocaml/camlp4: added to search path\n",
      "/home/austinw/.opam/cs3110-2021sp/lib/archimedes: added to search path\n",
      "/home/austinw/.opam/cs3110-2021sp/lib/archimedes/archimedes_internals.cma: loaded\n",
      "/home/austinw/.opam/cs3110-2021sp/lib/archimedes/archimedes_toploop.cma: loaded\n"
     ]
    },
    {
     "name": "stdout",
     "output_type": "stream",
     "text": [
      "Cannot find file graphics.cma.\n",
      "Cannot find file archimedes_graphics.cma.\n"
     ]
    },
    {
     "name": "stderr",
     "output_type": "stream",
     "text": [
      "Module Archimedes loaded and aliased as A.\n",
      "/home/austinw/.opam/cs3110-2021sp/lib/archimedes/archimedes_cairo.cma: loaded\n",
      "/home/austinw/.opam/cs3110-2021sp/lib/bytes: added to search path\n",
      "/home/austinw/.opam/cs3110-2021sp/lib/base64: added to search path\n",
      "/home/austinw/.opam/cs3110-2021sp/lib/base64/base64.cma: loaded\n",
      "/home/austinw/.opam/cs3110-2021sp/lib/ocaml/compiler-libs: added to search path\n",
      "/home/austinw/.opam/cs3110-2021sp/lib/ocaml/compiler-libs/ocamlcommon.cma: loaded\n",
      "/home/austinw/.opam/cs3110-2021sp/lib/result: added to search path\n",
      "/home/austinw/.opam/cs3110-2021sp/lib/result/result.cma: loaded\n",
      "/home/austinw/.opam/cs3110-2021sp/lib/ppx_deriving/runtime: added to search path\n",
      "/home/austinw/.opam/cs3110-2021sp/lib/ppx_deriving/runtime/ppx_deriving_runtime.cma: loaded\n",
      "/home/austinw/.opam/cs3110-2021sp/lib/ppx_deriving_yojson/runtime: added to search path\n",
      "/home/austinw/.opam/cs3110-2021sp/lib/ppx_deriving_yojson/runtime/ppx_deriving_yojson_runtime.cma: loaded\n",
      "/home/austinw/.opam/cs3110-2021sp/lib/uuidm: added to search path\n",
      "/home/austinw/.opam/cs3110-2021sp/lib/uuidm/uuidm.cma: loaded\n",
      "/home/austinw/.opam/cs3110-2021sp/lib/easy-format: added to search path\n",
      "/home/austinw/.opam/cs3110-2021sp/lib/easy-format/easy_format.cma: loaded\n",
      "/home/austinw/.opam/cs3110-2021sp/lib/biniou: added to search path\n",
      "/home/austinw/.opam/cs3110-2021sp/lib/biniou/biniou.cma: loaded\n",
      "/home/austinw/.opam/cs3110-2021sp/lib/yojson: added to search path\n",
      "/home/austinw/.opam/cs3110-2021sp/lib/yojson/yojson.cma: loaded\n",
      "/home/austinw/.opam/cs3110-2021sp/lib/jupyter: added to search path\n",
      "/home/austinw/.opam/cs3110-2021sp/lib/jupyter/jupyter.cma: loaded\n",
      "/home/austinw/.opam/cs3110-2021sp/lib/jupyter/notebook: added to search path\n",
      "/home/austinw/.opam/cs3110-2021sp/lib/jupyter/notebook/jupyter_notebook.cma: loaded\n",
      "/home/austinw/.opam/cs3110-2021sp/lib/jupyter-archimedes: added to search path\n",
      "/home/austinw/.opam/cs3110-2021sp/lib/jupyter-archimedes/jupyter_archimedes.cma: loaded\n"
     ]
    },
    {
     "name": "stdout",
     "output_type": "stream",
     "text": [
      "type t = { dimensions : int * int; matrix : float list list; }\n",
      "exception InvalidDimensions of string\n",
      "val dim : t -> int * int = <fun>\n",
      "val matrix : t -> float list list = <fun>\n",
      "val fill : int -> int -> float -> t = <fun>\n",
      "val zero : int -> int -> t = <fun>\n",
      "val eye : int -> t = <fun>\n",
      "val transpose : t -> t = <fun>\n",
      "val mult : t -> t -> t = <fun>\n",
      "val to_array : 'a list list -> 'a array array = <fun>\n",
      "val to_list : 'a array array -> 'a list list = <fun>\n",
      "val swap : 'a array -> int -> int -> unit = <fun>\n",
      "val rref : t -> t = <fun>\n",
      "val construct : float list list -> t = <fun>\n",
      "val lu_decomp : t -> t * t = <fun>\n",
      "val concat : t -> t -> t = <fun>\n",
      "val invert : t -> t = <fun>\n",
      "val scale : t -> float -> t = <fun>\n",
      "val det : t -> float = <fun>\n",
      "val magnitude : t -> float = <fun>\n",
      "val normalize : t -> t = <fun>\n",
      "val eigen : t -> bool -> float * t = <fun>\n",
      "val elem_pow : t -> float -> t = <fun>\n",
      "val pinv : t -> t = <fun>\n",
      "val op : t -> t -> (float -> float -> float) -> t = <fun>\n",
      "val dot : t -> t -> float = <fun>\n",
      "val elem_f : t -> (float -> float) -> t = <fun>\n",
      "val w : Matrix.t ref = {contents = <abstr>}\n",
      "val train : Matrix.t -> float -> Matrix.t -> Matrix.t = <fun>\n"
     ]
    }
   ],
   "source": [
    "#directory \"_build\"\n",
    "#load \"matrix.cmo\"\n",
    "#require \"jupyter-archimedes\"\n",
    "#use \"matrix.ml\"\n",
    "#use \"perceptron.ml\""
   ]
  },
  {
   "cell_type": "code",
   "execution_count": 9,
   "id": "separate-adoption",
   "metadata": {},
   "outputs": [
    {
     "data": {
      "text/plain": [
       "val gen_x : float list -> int -> float list = <fun>\n"
      ]
     },
     "execution_count": 9,
     "metadata": {},
     "output_type": "execute_result"
    },
    {
     "data": {
      "text/plain": [
       "val x : float list =\n",
       "  [0.477062069633257146; 0.173647789993747081; 0.322354287743959134;\n",
       "   -0.117974105580602062; -0.603499482097134; 0.789292817263204216;\n",
       "   0.961541532408478838; -0.764996953425145731; -0.72072222607876224;\n",
       "   -0.0905844580873813587; 0.0984303844070483214; -0.117052388132868668;\n",
       "   -0.322767904252171833; -0.270993874001434154; 0.916002534295478399;\n",
       "   -0.356052104324337648; -0.119615887477519722; -0.188574513741683658;\n",
       "   0.519378150825951; -0.295975310896480881; 0.471091499467940045;\n",
       "   0.667023734594671458; 0.70026822128210986; -0.490697594844513141;\n",
       "   0.468703243110058509; 0.106260425273973502; 0.0619721932419492472;\n",
       "   -0.678252829785165767; 0.928844452251809338; 0.9500294697166074;\n",
       "   0.377041412394887; 0.985091079564257566; 0.838876413069378435;\n",
       "   0.611267893134213147; 0.159766986059318161; 0.365538566187059821;\n",
       "   -0.095853707066079652; 0.640943231289962778; 0.42827301386190253;\n",
       "   -0.059089458301740283; 0.830771107558037625; 0.486844478406701;\n",
       "   -0.413991908751869753; -0.921343669013186428; -0.038367266830305;\n",
       "   -0.956176451414068262; 0.853836740998281; -0.546493062124538076;\n",
       "   0.00545473203930813; 0.794031246988596173; 0.780415223385436341;\n",
       "   -0.461671091425432056; 0.340938615380220966; 0.365847480309412276;\n",
       "   0.222883039662820748; 0.33465826662808229; 0.41150593666201063;\n",
       "   0.623439241558527923; -0.985414607164095; -0.876051883056924385;\n",
       "   -0.125762980727525342; -0.267464123940805765; 0.245899617607046483;\n",
       "   -0.738290568162351279; -0.603232764740893268; -0.120109030404090378;\n",
       "   0.851173439430714662; 0.929259231504849792; -0.0556384786325052616;\n",
       "   -0.374699504858089893; -0.23905964962088011; -0.82101916913519668;\n",
       "   -0.942503375595553194; -0.739724781225808314; -0.568189786259816643;\n",
       "   -0.590656317485408699; 0.532550650558882288; -0.425361114400089946;\n",
       "   0.584072456828914399; -0.724473493978304; 0.806031442151683208;\n",
       "   -0.812067993896915308; -0.21471892710460061; 0.446934617699772496;\n",
       "   -0.0392008356176636319; -0.876044927289722608; 0.875570941344586906;\n",
       "   -0.241520450852678259; -0.850600714023173721; 0.130598295555007571;\n",
       "   -0.653779753373871; -0.576165857482064281; 0.0845188721852303537;\n",
       "   -0.572891472997080431; -0.390591941433142686; -0.242078990371278335;\n",
       "   0.507749532688162; -0.922177319512745; 0.895704230832166104;\n",
       "   0.0353299169702024907]\n"
      ]
     },
     "execution_count": 9,
     "metadata": {},
     "output_type": "execute_result"
    },
    {
     "data": {
      "text/plain": [
       "val y : float list =\n",
       "  [0.567822198982675275; -0.738478665392554801; -0.511802239361812461;\n",
       "   0.099353055632871; -0.358177859546828126; -0.76448491089299675;\n",
       "   0.74520687907705685; -0.961331247268220279; -0.473585053080864071;\n",
       "   0.926848684365742193; -0.555334151607274062; 0.254127046400801637;\n",
       "   0.986874135440850786; -0.512047433123364426; 0.679600239045423438;\n",
       "   -0.433582634065734052; -0.751628518936219514; 0.342983498697212341;\n",
       "   0.872020683677527164; 0.580075327403728358; -0.465013945786432403;\n",
       "   -0.524838247032304306; -0.405149336444932562; -0.969998778781474114;\n",
       "   0.908014705360675856; -0.352334387896865; 0.503463275261257559;\n",
       "   0.245090156723082098; 0.394977300571758505; 0.493328980165674613;\n",
       "   -0.891657814717182751; 0.595137114206278461; 0.238786940062116981;\n",
       "   -0.117885481176305706; 0.00269577051088243369; 0.0600250256555224793;\n",
       "   0.377801422005569543; -0.724793314223206364; 0.620249707026491182;\n",
       "   0.0850392506109420854; -0.148295118162933504; 0.690271640833885369;\n",
       "   -0.844873304548953374; -0.951603045956766369; 0.868218184237654622;\n",
       "   -0.389068024742058594; -0.545060785455037777; 0.0438514351863214;\n",
       "   -0.711962483356606501; 0.051364308066555675; -0.127021310597741133;\n",
       "   -0.0916318317452178288; 0.101089825215031626; 0.991424952465122855;\n",
       "   0.340910118371612225; 0.875891128261155893; 0.286298011168857669;\n",
       "   -0.615780598805325763; 0.186778822504451658; 0.494094231386490557;\n",
       "   -0.718361422064707877; 0.367271556678055111; -0.327538329373938897;\n",
       "   0.624639354210694; -0.127035805060549345; -0.228455764426630514;\n",
       "   -0.582819923046372423; -0.813305112377597617; -0.952861725380411473;\n",
       "   -0.699770505074254; 0.737920513830981; -0.783668435521973405;\n",
       "   -0.508331186855281558; -0.913886747058364701; 0.362173270672315195;\n",
       "   -0.622660772171183652; 0.628143578851955819; 0.0603371915144318427;\n",
       "   0.85473091727469086; 0.658733788816199151; 0.26709099581574558;\n",
       "   -0.481215154900457076; -0.41752972697094437; 0.46821991974011834;\n",
       "   -0.771647214745828647; -0.431155869827928084; -0.801671125704090271;\n",
       "   -0.140530880982080664; -0.247136794704120089; -0.889522883481608462;\n",
       "   -0.066616889572777227; 0.873638947437543223; 0.693886412075133352;\n",
       "   -0.717549459471889417; -0.817821844668408238; 0.698933442488545609;\n",
       "   -0.258102793110594808; -0.0686747470542168337; -0.710434059632965687;\n",
       "   0.771940642004548594]\n"
      ]
     },
     "execution_count": 9,
     "metadata": {},
     "output_type": "execute_result"
    },
    {
     "data": {
      "text/plain": [
       "val f : float -> float -> float = <fun>\n"
      ]
     },
     "execution_count": 9,
     "metadata": {},
     "output_type": "execute_result"
    },
    {
     "data": {
      "text/plain": [
       "val gen_pp :\n",
       "  float list ->\n",
       "  float list ->\n",
       "  (float * float) list ->\n",
       "  (float * float) list -> (float * float) list * (float * float) list = <fun>\n"
      ]
     },
     "execution_count": 9,
     "metadata": {},
     "output_type": "execute_result"
    },
    {
     "data": {
      "text/plain": [
       "val pp : (float * float) list * (float * float) list =\n",
       "  ([(-0.0905844580873813587, 0.926848684365742193);\n",
       "    (-0.322767904252171833, 0.986874135440850786);\n",
       "    (-0.188574513741683658, 0.342983498697212341);\n",
       "    (0.519378150825951, 0.872020683677527164);\n",
       "    (-0.295975310896480881, 0.580075327403728358);\n",
       "    (0.468703243110058509, 0.908014705360675856);\n",
       "    (0.0619721932419492472, 0.503463275261257559);\n",
       "    (-0.678252829785165767, 0.245090156723082098);\n",
       "    (-0.095853707066079652, 0.377801422005569543);\n",
       "    (-0.038367266830305, 0.868218184237654622);\n",
       "    (-0.546493062124538076, 0.0438514351863214);\n",
       "    (0.365847480309412276, 0.991424952465122855);\n",
       "    (0.33465826662808229, 0.875891128261155893);\n",
       "    (-0.985414607164095, 0.186778822504451658);\n",
       "    (-0.876051883056924385, 0.494094231386490557);\n",
       "    (-0.267464123940805765, 0.367271556678055111);\n",
       "    (-0.738290568162351279, 0.624639354210694);\n",
       "    (-0.23905964962088011, 0.737920513830981);\n",
       "    (-0.568189786259816643, 0.362173270672315195);\n",
       "    (-0.425361114400089946, 0.0603371915144318427);\n",
       "    (-0.724473493978304, 0.658733788816199151);\n",
       "    (-0.850600714023173721, -0.247136794704120089);\n",
       "    (-0.653779753373871, -0.066616889572777227);\n",
       "    (-0.576165857482064281, 0.873638947437543223);\n",
       "    (0.0845188721852303537, 0.693886412075133352);\n",
       "    (-0.242078990371278335, 0.698933442488545609);\n",
       "    (-0.922177319512745, -0.0686747470542168337);\n",
       "    (0.0353299169702024907, 0.771940642004548594)],\n",
       "   [(0.477062069633257146, 0.567822198982675275);\n",
       "    (0.173647789993747081, -0.738478665392554801);\n",
       "    (0.322354287743959134, -0.511802239361812461);\n",
       "    (-0.117974105580602062, 0.099353055632871);\n",
       "    (-0.603499482097134, -0.358177859546828126);\n",
       "    (0.789292817263204216, -0.76448491089299675);\n",
       "    (0.961541532408478838, 0.74520687907705685);\n",
       "    (-0.764996953425145731, -0.961331247268220279);\n",
       "    (-0.72072222607876224, -0.473585053080864071);\n",
       "    (0.0984303844070483214, -0.555334151607274062);\n",
       "    (-0.117052388132868668, 0.254127046400801637);\n",
       "    (-0.270993874001434154, -0.512047433123364426);\n",
       "    (0.916002534295478399, 0.679600239045423438);\n",
       "    (-0.356052104324337648, -0.433582634065734052);\n",
       "    (-0.119615887477519722, -0.751628518936219514);\n",
       "    (0.471091499467940045, -0.465013945786432403);\n",
       "    (0.667023734594671458, -0.524838247032304306);\n",
       "    (0.70026822128210986, -0.405149336444932562);\n",
       "    (-0.490697594844513141, -0.969998778781474114);\n",
       "    (0.106260425273973502, -0.352334387896865);\n",
       "    (0.928844452251809338, 0.394977300571758505);\n",
       "    (0.9500294697166074, 0.493328980165674613);\n",
       "    (0.377041412394887, -0.891657814717182751);\n",
       "    (0.985091079564257566, 0.595137114206278461);\n",
       "    (0.838876413069378435, 0.238786940062116981);\n",
       "    (0.611267893134213147, -0.117885481176305706);\n",
       "    (0.159766986059318161, 0.00269577051088243369);\n",
       "    (0.365538566187059821, 0.0600250256555224793);\n",
       "    (0.640943231289962778, -0.724793314223206364);\n",
       "    (0.42827301386190253, 0.620249707026491182);\n",
       "    (-0.059089458301740283, 0.0850392506109420854);\n",
       "    (0.830771107558037625, -0.148295118162933504);\n",
       "    (0.486844478406701, 0.690271640833885369);\n",
       "    (-0.413991908751869753, -0.844873304548953374);\n",
       "    (-0.921343669013186428, -0.951603045956766369);\n",
       "    (-0.956176451414068262, -0.389068024742058594);\n",
       "    (0.853836740998281, -0.545060785455037777);\n",
       "    (0.00545473203930813, -0.711962483356606501);\n",
       "    (0.794031246988596173, 0.051364308066555675);\n",
       "    (0.780415223385436341, -0.127021310597741133);\n",
       "    (-0.461671091425432056, -0.0916318317452178288);\n",
       "    (0.340938615380220966, 0.101089825215031626);\n",
       "    (0.222883039662820748, 0.340910118371612225);\n",
       "    (0.41150593666201063, 0.286298011168857669);\n",
       "    (0.623439241558527923, -0.615780598805325763);\n",
       "    (-0.125762980727525342, -0.718361422064707877);\n",
       "    (0.245899617607046483, -0.327538329373938897);\n",
       "    (-0.603232764740893268, -0.127035805060549345);\n",
       "    (-0.120109030404090378, -0.228455764426630514);\n",
       "    (0.851173439430714662, -0.582819923046372423);\n",
       "    (0.929259231504849792, -0.813305112377597617);\n",
       "    (-0.0556384786325052616, -0.952861725380411473);\n",
       "    (-0.374699504858089893, -0.699770505074254);\n",
       "    (-0.82101916913519668, -0.783668435521973405);\n",
       "    (-0.942503375595553194, -0.508331186855281558);\n",
       "    (-0.739724781225808314, -0.913886747058364701);\n",
       "    (-0.590656317485408699, -0.622660772171183652);\n",
       "    (0.532550650558882288, 0.628143578851955819);\n",
       "    (0.584072456828914399, 0.85473091727469086);\n",
       "    (0.806031442151683208, 0.26709099581574558);\n",
       "    (-0.812067993896915308, -0.481215154900457076);\n",
       "    (-0.21471892710460061, -0.41752972697094437);\n",
       "    (0.446934617699772496, 0.46821991974011834);\n",
       "    (-0.0392008356176636319, -0.771647214745828647);\n",
       "    (-0.876044927289722608, -0.431155869827928084);\n",
       "    (0.875570941344586906, -0.801671125704090271);\n",
       "    (-0.241520450852678259, -0.140530880982080664);\n",
       "    (0.130598295555007571, -0.889522883481608462);\n",
       "    (-0.572891472997080431, -0.717549459471889417);\n",
       "    (-0.390591941433142686, -0.817821844668408238);\n",
       "    (0.507749532688162, -0.258102793110594808); ...])\n"
      ]
     },
     "execution_count": 9,
     "metadata": {},
     "output_type": "execute_result"
    },
    {
     "data": {
      "text/plain": [
       "val u_pp : (float * float) list =\n",
       "  [(-0.0905844580873813587, 0.926848684365742193);\n",
       "   (-0.322767904252171833, 0.986874135440850786);\n",
       "   (-0.188574513741683658, 0.342983498697212341);\n",
       "   (0.519378150825951, 0.872020683677527164);\n",
       "   (-0.295975310896480881, 0.580075327403728358);\n",
       "   (0.468703243110058509, 0.908014705360675856);\n",
       "   (0.0619721932419492472, 0.503463275261257559);\n",
       "   (-0.678252829785165767, 0.245090156723082098);\n",
       "   (-0.095853707066079652, 0.377801422005569543);\n",
       "   (-0.038367266830305, 0.868218184237654622);\n",
       "   (-0.546493062124538076, 0.0438514351863214);\n",
       "   (0.365847480309412276, 0.991424952465122855);\n",
       "   (0.33465826662808229, 0.875891128261155893);\n",
       "   (-0.985414607164095, 0.186778822504451658);\n",
       "   (-0.876051883056924385, 0.494094231386490557);\n",
       "   (-0.267464123940805765, 0.367271556678055111);\n",
       "   (-0.738290568162351279, 0.624639354210694);\n",
       "   (-0.23905964962088011, 0.737920513830981);\n",
       "   (-0.568189786259816643, 0.362173270672315195);\n",
       "   (-0.425361114400089946, 0.0603371915144318427);\n",
       "   (-0.724473493978304, 0.658733788816199151);\n",
       "   (-0.850600714023173721, -0.247136794704120089);\n",
       "   (-0.653779753373871, -0.066616889572777227);\n",
       "   (-0.576165857482064281, 0.873638947437543223);\n",
       "   (0.0845188721852303537, 0.693886412075133352);\n",
       "   (-0.242078990371278335, 0.698933442488545609);\n",
       "   (-0.922177319512745, -0.0686747470542168337);\n",
       "   (0.0353299169702024907, 0.771940642004548594)]\n"
      ]
     },
     "execution_count": 9,
     "metadata": {},
     "output_type": "execute_result"
    },
    {
     "data": {
      "text/plain": [
       "val l_pp : (float * float) list =\n",
       "  [(0.477062069633257146, 0.567822198982675275);\n",
       "   (0.173647789993747081, -0.738478665392554801);\n",
       "   (0.322354287743959134, -0.511802239361812461);\n",
       "   (-0.117974105580602062, 0.099353055632871);\n",
       "   (-0.603499482097134, -0.358177859546828126);\n",
       "   (0.789292817263204216, -0.76448491089299675);\n",
       "   (0.961541532408478838, 0.74520687907705685);\n",
       "   (-0.764996953425145731, -0.961331247268220279);\n",
       "   (-0.72072222607876224, -0.473585053080864071);\n",
       "   (0.0984303844070483214, -0.555334151607274062);\n",
       "   (-0.117052388132868668, 0.254127046400801637);\n",
       "   (-0.270993874001434154, -0.512047433123364426);\n",
       "   (0.916002534295478399, 0.679600239045423438);\n",
       "   (-0.356052104324337648, -0.433582634065734052);\n",
       "   (-0.119615887477519722, -0.751628518936219514);\n",
       "   (0.471091499467940045, -0.465013945786432403);\n",
       "   (0.667023734594671458, -0.524838247032304306);\n",
       "   (0.70026822128210986, -0.405149336444932562);\n",
       "   (-0.490697594844513141, -0.969998778781474114);\n",
       "   (0.106260425273973502, -0.352334387896865);\n",
       "   (0.928844452251809338, 0.394977300571758505);\n",
       "   (0.9500294697166074, 0.493328980165674613);\n",
       "   (0.377041412394887, -0.891657814717182751);\n",
       "   (0.985091079564257566, 0.595137114206278461);\n",
       "   (0.838876413069378435, 0.238786940062116981);\n",
       "   (0.611267893134213147, -0.117885481176305706);\n",
       "   (0.159766986059318161, 0.00269577051088243369);\n",
       "   (0.365538566187059821, 0.0600250256555224793);\n",
       "   (0.640943231289962778, -0.724793314223206364);\n",
       "   (0.42827301386190253, 0.620249707026491182);\n",
       "   (-0.059089458301740283, 0.0850392506109420854);\n",
       "   (0.830771107558037625, -0.148295118162933504);\n",
       "   (0.486844478406701, 0.690271640833885369);\n",
       "   (-0.413991908751869753, -0.844873304548953374);\n",
       "   (-0.921343669013186428, -0.951603045956766369);\n",
       "   (-0.956176451414068262, -0.389068024742058594);\n",
       "   (0.853836740998281, -0.545060785455037777);\n",
       "   (0.00545473203930813, -0.711962483356606501);\n",
       "   (0.794031246988596173, 0.051364308066555675);\n",
       "   (0.780415223385436341, -0.127021310597741133);\n",
       "   (-0.461671091425432056, -0.0916318317452178288);\n",
       "   (0.340938615380220966, 0.101089825215031626);\n",
       "   (0.222883039662820748, 0.340910118371612225);\n",
       "   (0.41150593666201063, 0.286298011168857669);\n",
       "   (0.623439241558527923, -0.615780598805325763);\n",
       "   (-0.125762980727525342, -0.718361422064707877);\n",
       "   (0.245899617607046483, -0.327538329373938897);\n",
       "   (-0.603232764740893268, -0.127035805060549345);\n",
       "   (-0.120109030404090378, -0.228455764426630514);\n",
       "   (0.851173439430714662, -0.582819923046372423);\n",
       "   (0.929259231504849792, -0.813305112377597617);\n",
       "   (-0.0556384786325052616, -0.952861725380411473);\n",
       "   (-0.374699504858089893, -0.699770505074254);\n",
       "   (-0.82101916913519668, -0.783668435521973405);\n",
       "   (-0.942503375595553194, -0.508331186855281558);\n",
       "   (-0.739724781225808314, -0.913886747058364701);\n",
       "   (-0.590656317485408699, -0.622660772171183652);\n",
       "   (0.532550650558882288, 0.628143578851955819);\n",
       "   (0.584072456828914399, 0.85473091727469086);\n",
       "   (0.806031442151683208, 0.26709099581574558);\n",
       "   (-0.812067993896915308, -0.481215154900457076);\n",
       "   (-0.21471892710460061, -0.41752972697094437);\n",
       "   (0.446934617699772496, 0.46821991974011834);\n",
       "   (-0.0392008356176636319, -0.771647214745828647);\n",
       "   (-0.876044927289722608, -0.431155869827928084);\n",
       "   (0.875570941344586906, -0.801671125704090271);\n",
       "   (-0.241520450852678259, -0.140530880982080664);\n",
       "   (0.130598295555007571, -0.889522883481608462);\n",
       "   (-0.572891472997080431, -0.717549459471889417);\n",
       "   (-0.390591941433142686, -0.817821844668408238);\n",
       "   (0.507749532688162, -0.258102793110594808);\n",
       "   (0.895704230832166104, -0.710434059632965687)]\n"
      ]
     },
     "execution_count": 9,
     "metadata": {},
     "output_type": "execute_result"
    },
    {
     "data": {
      "text/plain": [
       "val gen_labels : float list -> float list -> float list -> float list = <fun>\n"
      ]
     },
     "execution_count": 9,
     "metadata": {},
     "output_type": "execute_result"
    },
    {
     "data": {
      "text/plain": [
       "val labels : Matrix.t = <abstr>\n"
      ]
     },
     "execution_count": 9,
     "metadata": {},
     "output_type": "execute_result"
    },
    {
     "data": {
      "text/plain": [
       "val x : Matrix.t = <abstr>\n"
      ]
     },
     "execution_count": 9,
     "metadata": {},
     "output_type": "execute_result"
    },
    {
     "data": {
      "text/plain": [
       "val y : Matrix.t = <abstr>\n"
      ]
     },
     "execution_count": 9,
     "metadata": {},
     "output_type": "execute_result"
    },
    {
     "data": {
      "text/plain": [
       "val data : Matrix.t = <abstr>\n"
      ]
     },
     "execution_count": 9,
     "metadata": {},
     "output_type": "execute_result"
    },
    {
     "data": {
      "text/plain": [
       "val w : float list list =\n",
       "  [[-0.167336660629065936; -0.335421254587334; 0.424566442992315496]]\n"
      ]
     },
     "execution_count": 9,
     "metadata": {},
     "output_type": "execute_result"
    },
    {
     "name": "stderr",
     "output_type": "stream",
     "text": [
      "File \"[9]\", line 28, characters 11-71:\n",
      "28 | let f' x = let [w0 :: w1 :: [w2]] = w in (-1.) *. (w1 *. x +. w0) /. w2\n",
      "                ^^^^^^^^^^^^^^^^^^^^^^^^^^^^^^^^^^^^^^^^^^^^^^^^^^^^^^^^^^^^\n",
      "Warning 8: this pattern-matching is not exhaustive.\n",
      "Here is an example of a case that is not matched:\n",
      "((_::_::_::[])::_::_|(_::_::_::_::_)::_|(_::_::[])::_|(_::[])::_|[]::_|[])\n"
     ]
    },
    {
     "data": {
      "text/plain": [
       "val f' : float -> float = <fun>\n"
      ]
     },
     "execution_count": 9,
     "metadata": {},
     "output_type": "execute_result"
    }
   ],
   "source": [
    "let rec gen_x acc n = if n = 0 then acc else gen_x ((1.0 -. Random.float 2.0) :: acc) (n-1) \n",
    "let x = gen_x [] 100\n",
    "let y = gen_x [] 100 \n",
    "let f x y = if y > 0.8 *. x +. 0.4 then 1.0 else 0.0\n",
    "let rec gen_pp x_acc y_acc u_acc l_acc = \n",
    "    match x_acc with \n",
    "    | [] -> (u_acc, l_acc)\n",
    "    | x :: xs -> \n",
    "        match y_acc with \n",
    "            | [] -> assert false\n",
    "            | y :: ys -> if f x y = 1.0 then gen_pp xs ys (u_acc @ [(x, y)]) l_acc \n",
    "                         else gen_pp xs ys u_acc (l_acc @ [(x, y)])\n",
    "let pp = gen_pp x y [] []\n",
    "let u_pp = fst pp \n",
    "let l_pp = snd pp\n",
    "let rec gen_labels x_acc y_acc l_acc = \n",
    "    match x_acc with \n",
    "    | [] -> l_acc\n",
    "    | x :: xs -> \n",
    "        match y_acc with \n",
    "            | [] -> assert false\n",
    "            | y :: ys -> gen_labels xs ys (l_acc @ [f x y])\n",
    "let labels = [gen_labels x y []] |> construct |> transpose \n",
    "let x = [x] |> construct |> transpose \n",
    "let y = [y] |> construct |> transpose \n",
    "let data = concat x y \n",
    "let w = train data 0.001 labels |> matrix \n",
    "let f' x = let [w0 :: w1 :: [w2]] = w in (-1.) *. (w1 *. x +. w0) /. w2"
   ]
  },
  {
   "cell_type": "code",
   "execution_count": 11,
   "id": "traditional-transparency",
   "metadata": {},
   "outputs": [
    {
     "data": {
      "image/png": "[encoded data removed]"
     },
     "metadata": {},
     "output_type": "display_data"
    },
    {
     "data": {
      "text/plain": [
       "- : unit = ()\n"
      ]
     },
     "execution_count": 11,
     "metadata": {},
     "output_type": "execute_result"
    }
   ],
   "source": [
    "(* Plot using Archimedes *)\n",
    "let vp = A. init ~w:600. ~h:600. [\"jupyter\"] in\n",
    "    A.Axes.box vp ;\n",
    "    A.set_color vp A.Color.red ;\n",
    "    A.List.xy_pairs vp u_pp ;\n",
    "    A.set_color vp A.Color.blue ;\n",
    "    A.List.xy_pairs vp l_pp ;\n",
    "    A.set_color vp A.Color.black ;\n",
    "    A.fx vp f' (-1.0) 1.0 ;\n",
    "    A.close vp "
   ]
  },
  {
   "cell_type": "code",
   "execution_count": null,
   "id": "accurate-kernel",
   "metadata": {},
   "outputs": [],
   "source": []
  }
 ],
 "metadata": {
  "kernelspec": {
   "display_name": "OCaml cs3110-2021sp",
   "language": "OCaml",
   "name": "ocaml-jupyter"
  },
  "language_info": {
   "codemirror_mode": "text/x-ocaml",
   "file_extension": ".ml",
   "mimetype": "text/x-ocaml",
   "name": "OCaml",
   "nbconverter_exporter": null,
   "pygments_lexer": "OCaml",
   "version": "4.11.1"
  }
 },
 "nbformat": 4,
 "nbformat_minor": 5
}
