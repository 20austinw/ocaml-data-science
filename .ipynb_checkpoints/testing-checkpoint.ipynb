{
 "cells": [
  {
   "cell_type": "markdown",
   "metadata": {},
   "source": [
    "# Jupyter Notebook to test our code."
   ]
  },
  {
   "cell_type": "code",
   "execution_count": 1,
   "metadata": {},
   "outputs": [
    {
     "name": "stderr",
     "output_type": "stream",
     "text": [
      "/Users/aryanyadav/.opam/cs3110-2021sp/lib/bytes: added to search path\n",
      "/Users/aryanyadav/.opam/cs3110-2021sp/lib/Csv: added to search path\n",
      "/Users/aryanyadav/.opam/cs3110-2021sp/lib/Csv/csv.cma: loaded\n"
     ]
    }
   ],
   "source": [
    "#require \"Csv\""
   ]
  },
  {
   "cell_type": "code",
   "execution_count": 4,
   "metadata": {},
   "outputs": [
    {
     "data": {
      "text/plain": [
       "val x : Csv.t =\n",
       "  [[\"x1\"; \"y1\"; \"x2\"; \"y2\"; \"x3\"; \"y3\"; \"x4\"; \"y4\"];\n",
       "   [\"10\"; \"8.04\"; \"10\"; \"9.14\"; \"10\"; \"7.46\"; \"8\"; \"6.58\"];\n",
       "   [\"8\"; \"6.95\"; \"8\"; \"8.14\"; \"8\"; \"6.77\"; \"8\"; \"5.76\"];\n",
       "   [\"13\"; \"7.58\"; \"13\"; \"8.74\"; \"13\"; \"12.74\"; \"8\"; \"7.71\"];\n",
       "   [\"9\"; \"8.81\"; \"9\"; \"8.77\"; \"9\"; \"7.11\"; \"8\"; \"8.84\"];\n",
       "   [\"11\"; \"8.33\"; \"11\"; \"9.26\"; \"11\"; \"7.81\"; \"8\"; \"8.47\"];\n",
       "   [\"14\"; \"9.96\"; \"14\"; \"8.1\"; \"14\"; \"8.84\"; \"8\"; \"7.04\"];\n",
       "   [\"6\"; \"7.24\"; \"6\"; \"6.13\"; \"6\"; \"6.08\"; \"8\"; \"5.25\"];\n",
       "   [\"4\"; \"4.26\"; \"4\"; \"3.1\"; \"4\"; \"5.39\"; \"19\"; \"12.5\"];\n",
       "   [\"12\"; \"10.84\"; \"12\"; \"9.13\"; \"12\"; \"8.15\"; \"8\"; \"5.56\"];\n",
       "   [\"7\"; \"4.82\"; \"7\"; \"7.26\"; \"7\"; \"6.42\"; \"8\"; \"7.91\"];\n",
       "   [\"5\"; \"5.68\"; \"5\"; \"4.74\"; \"5\"; \"5.73\"; \"8\"; \"6.89\"]]\n"
      ]
     },
     "execution_count": 4,
     "metadata": {},
     "output_type": "execute_result"
    }
   ],
   "source": [
    "let x = Csv.load \"quartet.csv\""
   ]
  },
  {
   "cell_type": "code",
   "execution_count": 6,
   "metadata": {},
   "outputs": [
    {
     "data": {
      "text/plain": [
       "val j : unit = ()\n"
      ]
     },
     "execution_count": 6,
     "metadata": {},
     "output_type": "execute_result"
    }
   ],
   "source": [
    "let j = Csv.print_readable x"
   ]
  }
 ],
 "metadata": {
  "kernelspec": {
   "display_name": "OCaml cs3110-2021sp",
   "language": "OCaml",
   "name": "ocaml-jupyter"
  },
  "language_info": {
   "codemirror_mode": "text/x-ocaml",
   "file_extension": ".ml",
   "mimetype": "text/x-ocaml",
   "name": "OCaml",
   "nbconverter_exporter": null,
   "pygments_lexer": "OCaml",
   "version": "4.11.1"
  }
 },
 "nbformat": 4,
 "nbformat_minor": 4
}
