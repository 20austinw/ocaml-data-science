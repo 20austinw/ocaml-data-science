{
 "cells": [
  {
   "cell_type": "markdown",
   "metadata": {},
   "source": [
    "# Logistic regression demo"
   ]
  },
  {
   "cell_type": "code",
   "execution_count": 25,
   "metadata": {},
   "outputs": [
    {
     "name": "stdout",
     "output_type": "stream",
     "text": [
      "type t = { dimensions : int * int; matrix : float list list; }\n",
      "exception InvalidDimensions of string\n",
      "val dim : t -> int * int = <fun>\n",
      "val matrix : t -> float list list = <fun>\n",
      "val fill : int -> int -> float -> t = <fun>\n",
      "val zero : int -> int -> t = <fun>\n",
      "val eye : int -> t = <fun>\n",
      "val transpose : t -> t = <fun>\n",
      "val mult : t -> t -> t = <fun>\n",
      "val to_array : 'a list list -> 'a array array = <fun>\n",
      "val to_list : 'a array array -> 'a list list = <fun>\n",
      "val swap : 'a array -> int -> int -> unit = <fun>\n",
      "val rref : t -> t = <fun>\n",
      "val construct : float list list -> t = <fun>\n",
      "val lu_decomp : t -> t * t = <fun>\n",
      "val concat : t -> t -> t = <fun>\n",
      "val invert : t -> t = <fun>\n",
      "val scale : t -> float -> t = <fun>\n",
      "val det : t -> float = <fun>\n",
      "val magnitude : t -> float = <fun>\n",
      "val normalize : t -> t = <fun>\n",
      "val eigen : t -> bool -> float * t = <fun>\n",
      "val elem_pow : t -> float -> t = <fun>\n",
      "val pinv : t -> t = <fun>\n",
      "val op : t -> t -> (float -> float -> float) -> t = <fun>\n",
      "val dot : t -> t -> float = <fun>\n",
      "val e : float = 2.71828182845904509\n",
      "val sigmoid : float -> float = <fun>\n",
      "val num_iter : int ref = {contents = 100}\n",
      "val alpha : float ref = {contents = 0.1}\n",
      "val update_params : int -> float -> unit = <fun>\n",
      "val h : Matrix.t -> Matrix.t -> Matrix.t = <fun>\n",
      "val compute_gradient : Matrix.t -> Matrix.t -> Matrix.t -> Matrix.t = <fun>\n",
      "val theta : Matrix.t ref = {contents = <abstr>}\n",
      "val fit : Matrix.t -> Matrix.t -> Matrix.t = <fun>\n",
      "val predict : Matrix.t -> Matrix.t = <fun>\n"
     ]
    },
    {
     "data": {
      "text/plain": [
       "val x : float list = [1.; 2.; 3.; 4.; 5.; 10.; 13.]\n"
      ]
     },
     "execution_count": 25,
     "metadata": {},
     "output_type": "execute_result"
    },
    {
     "data": {
      "text/plain": [
       "val y : float list = [0.; 0.; 0.; 0.; 1.; 1.; 1.]\n"
      ]
     },
     "execution_count": 25,
     "metadata": {},
     "output_type": "execute_result"
    },
    {
     "data": {
      "text/plain": [
       "val gen_pp : ('a * 'b) list -> 'a list -> 'b list -> ('a * 'b) list = <fun>\n"
      ]
     },
     "execution_count": 25,
     "metadata": {},
     "output_type": "execute_result"
    },
    {
     "data": {
      "text/plain": [
       "val pp : (float * float) list =\n",
       "  [(13., 1.); (10., 1.); (5., 1.); (4., 0.); (3., 0.); (2., 0.); (1., 0.)]\n"
      ]
     },
     "execution_count": 25,
     "metadata": {},
     "output_type": "execute_result"
    },
    {
     "data": {
      "text/plain": [
       "val x : Matrix.t = <abstr>\n"
      ]
     },
     "execution_count": 25,
     "metadata": {},
     "output_type": "execute_result"
    },
    {
     "data": {
      "text/plain": [
       "val y : Matrix.t = <abstr>\n"
      ]
     },
     "execution_count": 25,
     "metadata": {},
     "output_type": "execute_result"
    },
    {
     "data": {
      "text/plain": [
       "val theta : float list list = [[-231.701301239980324]]\n"
      ]
     },
     "execution_count": 25,
     "metadata": {},
     "output_type": "execute_result"
    },
    {
     "data": {
      "text/plain": [
       "val f : float -> float = <fun>\n"
      ]
     },
     "execution_count": 25,
     "metadata": {},
     "output_type": "execute_result"
    }
   ],
   "source": [
    "#directory \"_build\"\n",
    "#load \"matrix.cmo\"\n",
    "#require \"jupyter-archimedes\"\n",
    "#use \"matrix.ml\"\n",
    "#use \"logistic_regression.ml\"\n",
    "\n",
    "(* Generating training data for logistic fit *)\n",
    "(* Generate x values for training *)\n",
    "(* let rec gen_xy num_points = \n",
    "    let x = (Random.float 1.0) *. 100 in\n",
    "    let diff_from_50 = abs_float (50.0 -. x) in *)\n",
    "    \n",
    "let x = [1.;2.;3.;4.;5.;10.;13.]\n",
    "let y = [0.;0.;0.;0.;1.;1.;1.;]\n",
    "\n",
    "let rec gen_pp acc x_lst y_lst = \n",
    "    match x_lst with \n",
    "    | [] -> acc \n",
    "    | x :: xs -> \n",
    "        match y_lst with \n",
    "        | [] -> assert false\n",
    "        | y :: ys -> \n",
    "            gen_pp ((x, y) :: acc) xs ys\n",
    "let pp = gen_pp [] x y\n",
    "\n",
    "\n",
    "(* Transforming training data to matrix *)\n",
    "let x = [x] |> construct |> transpose \n",
    "let y = [y] |> construct |> transpose \n",
    "(* let theta = fit x y |> matrix *)\n",
    "let theta = [[1.5]]\n",
    "\n",
    "\n",
    "(* Function for graphing *)\n",
    "let f x = \n",
    "    match theta with \n",
    "    | [[t]] -> 1. /. (1. +. (e ** (-1. *. t *. x)))\n",
    "    | _ -> assert false\n",
    "    \n"
   ]
  },
  {
   "cell_type": "code",
   "execution_count": 26,
   "metadata": {},
   "outputs": [
    {
     "data": {
      "image/png": "[encoded data removed]"
     },
     "metadata": {},
     "output_type": "display_data"
    },
    {
     "data": {
      "text/plain": [
       "- : unit = ()\n"
      ]
     },
     "execution_count": 26,
     "metadata": {},
     "output_type": "execute_result"
    }
   ],
   "source": [
    "(* Plot using Archimedes *)\n",
    "let vp = A. init ~w:600. ~h:600. [\"jupyter\"] in\n",
    "    A.Axes.box vp ;\n",
    "    A.set_color vp A.Color.red ;\n",
    "    A.List.xy_pairs vp pp ;\n",
    "    A.set_color vp A.Color.blue ;\n",
    "    A.fx vp f (-1.*.10.) 10. ;\n",
    "    A.close vp"
   ]
  },
  {
   "cell_type": "code",
   "execution_count": null,
   "metadata": {},
   "outputs": [],
   "source": []
  }
 ],
 "metadata": {
  "kernelspec": {
   "display_name": "OCaml cs3110-finalproj",
   "language": "OCaml",
   "name": "ocaml-jupyter"
  },
  "language_info": {
   "codemirror_mode": "text/x-ocaml",
   "file_extension": ".ml",
   "mimetype": "text/x-ocaml",
   "name": "OCaml",
   "nbconverter_exporter": null,
   "pygments_lexer": "OCaml",
   "version": "4.11.1"
  }
 },
 "nbformat": 4,
 "nbformat_minor": 4
}
