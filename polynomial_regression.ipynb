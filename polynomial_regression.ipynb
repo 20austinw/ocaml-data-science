{
 "cells": [
  {
   "cell_type": "markdown",
   "metadata": {},
   "source": [
    "# Polynomial Regression Demo"
   ]
  },
  {
   "cell_type": "code",
   "execution_count": 1,
   "metadata": {
    "scrolled": true
   },
   "outputs": [
    {
     "name": "stderr",
     "output_type": "stream",
     "text": [
      "/home/kalagar/.opam/cs3110-finalproj/lib/ocaml/unix.cma: loaded\n",
      "/home/kalagar/.opam/cs3110-finalproj/lib/ocaml/bigarray.cma: loaded\n",
      "/home/kalagar/.opam/cs3110-finalproj/lib/cairo2: added to search path\n",
      "/home/kalagar/.opam/cs3110-finalproj/lib/cairo2/cairo.cma: loaded\n",
      "/home/kalagar/.opam/cs3110-finalproj/lib/ocaml/dynlink.cma: loaded\n",
      "/home/kalagar/.opam/cs3110-finalproj/lib/ocaml/camlp4: added to search path\n",
      "/home/kalagar/.opam/cs3110-finalproj/lib/archimedes: added to search path\n",
      "/home/kalagar/.opam/cs3110-finalproj/lib/archimedes/archimedes_internals.cma: loaded\n",
      "/home/kalagar/.opam/cs3110-finalproj/lib/archimedes/archimedes_toploop.cma: loaded\n"
     ]
    },
    {
     "name": "stdout",
     "output_type": "stream",
     "text": [
      "Cannot find file graphics.cma.\n",
      "Cannot find file archimedes_graphics.cma.\n"
     ]
    },
    {
     "name": "stderr",
     "output_type": "stream",
     "text": [
      "Module Archimedes loaded and aliased as A.\n",
      "/home/kalagar/.opam/cs3110-finalproj/lib/archimedes/archimedes_cairo.cma: loaded\n",
      "/home/kalagar/.opam/cs3110-finalproj/lib/bytes: added to search path\n",
      "/home/kalagar/.opam/cs3110-finalproj/lib/base64: added to search path\n",
      "/home/kalagar/.opam/cs3110-finalproj/lib/base64/base64.cma: loaded\n",
      "/home/kalagar/.opam/cs3110-finalproj/lib/ocaml/compiler-libs: added to search path\n",
      "/home/kalagar/.opam/cs3110-finalproj/lib/ocaml/compiler-libs/ocamlcommon.cma: loaded\n",
      "/home/kalagar/.opam/cs3110-finalproj/lib/result: added to search path\n",
      "/home/kalagar/.opam/cs3110-finalproj/lib/result/result.cma: loaded\n",
      "/home/kalagar/.opam/cs3110-finalproj/lib/ppx_deriving/runtime: added to search path\n",
      "/home/kalagar/.opam/cs3110-finalproj/lib/ppx_deriving/runtime/ppx_deriving_runtime.cma: loaded\n",
      "/home/kalagar/.opam/cs3110-finalproj/lib/ppx_deriving_yojson/runtime: added to search path\n",
      "/home/kalagar/.opam/cs3110-finalproj/lib/ppx_deriving_yojson/runtime/ppx_deriving_yojson_runtime.cma: loaded\n",
      "/home/kalagar/.opam/cs3110-finalproj/lib/uuidm: added to search path\n",
      "/home/kalagar/.opam/cs3110-finalproj/lib/uuidm/uuidm.cma: loaded\n",
      "/home/kalagar/.opam/cs3110-finalproj/lib/easy-format: added to search path\n",
      "/home/kalagar/.opam/cs3110-finalproj/lib/easy-format/easy_format.cma: loaded\n",
      "/home/kalagar/.opam/cs3110-finalproj/lib/biniou: added to search path\n",
      "/home/kalagar/.opam/cs3110-finalproj/lib/biniou/biniou.cma: loaded\n",
      "/home/kalagar/.opam/cs3110-finalproj/lib/yojson: added to search path\n",
      "/home/kalagar/.opam/cs3110-finalproj/lib/yojson/yojson.cma: loaded\n",
      "/home/kalagar/.opam/cs3110-finalproj/lib/jupyter: added to search path\n",
      "/home/kalagar/.opam/cs3110-finalproj/lib/jupyter/jupyter.cma: loaded\n",
      "/home/kalagar/.opam/cs3110-finalproj/lib/jupyter/notebook: added to search path\n",
      "/home/kalagar/.opam/cs3110-finalproj/lib/jupyter/notebook/jupyter_notebook.cma: loaded\n",
      "/home/kalagar/.opam/cs3110-finalproj/lib/jupyter-archimedes: added to search path\n",
      "/home/kalagar/.opam/cs3110-finalproj/lib/jupyter-archimedes/jupyter_archimedes.cma: loaded\n"
     ]
    },
    {
     "name": "stdout",
     "output_type": "stream",
     "text": [
      "type t = { dimensions : int * int; matrix : float list list; }\n",
      "exception InvalidDimensions of string\n",
      "val dim : t -> int * int = <fun>\n",
      "val matrix : t -> float list list = <fun>\n",
      "val fill : int -> int -> float -> t = <fun>\n",
      "val zero : int -> int -> t = <fun>\n",
      "val eye : int -> t = <fun>\n",
      "val transpose : t -> t = <fun>\n",
      "val mult : t -> t -> t = <fun>\n",
      "val to_array : 'a list list -> 'a array array = <fun>\n",
      "val to_list : 'a array array -> 'a list list = <fun>\n",
      "val swap : 'a array -> int -> int -> unit = <fun>\n",
      "val rref : t -> t = <fun>\n",
      "val construct : float list list -> t = <fun>\n",
      "val lu_decomp : t -> t * t = <fun>\n",
      "val concat : t -> t -> t = <fun>\n",
      "val invert : t -> t = <fun>\n",
      "val scale : t -> float -> t = <fun>\n",
      "val det : t -> float = <fun>\n",
      "val magnitude : t -> float = <fun>\n",
      "val normalize : t -> t = <fun>\n",
      "val eigen : t -> bool -> float * t = <fun>\n",
      "val elem_pow : t -> float -> t = <fun>\n",
      "val pinv : t -> t = <fun>\n",
      "val op : t -> t -> (float -> float -> float) -> t = <fun>\n",
      "val dot : t -> t -> float = <fun>\n",
      "val elem_f : t -> (float -> float) -> t = <fun>\n",
      "val w : Matrix.t ref = {contents = <abstr>}\n",
      "val fit : Matrix.t -> Matrix.t -> int -> Matrix.t = <fun>\n",
      "val predict : Matrix.t -> Matrix.t = <fun>\n"
     ]
    },
    {
     "data": {
      "text/plain": [
       "val gen_x : float list -> int -> float list = <fun>\n"
      ]
     },
     "execution_count": 1,
     "metadata": {},
     "output_type": "execute_result"
    },
    {
     "data": {
      "text/plain": [
       "val x : float list =\n",
       "  [0.615023422878463899; 0.00302305526080004928; 0.0321120739492010143;\n",
       "   0.0309679714487140038; 0.60546429093965759; 0.205342767271661;\n",
       "   0.626521994433336338; 0.0300643870063514312; 0.238505093005829061;\n",
       "   0.595176653700347558; 0.48248782665370904; 0.998859295911093459;\n",
       "   0.0210421034024295545; 0.286901404454306064; 0.0821850215267001;\n",
       "   0.136746134509879547; 0.0393008084231417365; 0.265195565175353476;\n",
       "   0.362592271504737496; 0.388339873984977269; 0.243970857710033823;\n",
       "   0.563717009982898754; 0.43508027039092706; 0.811743392595760893;\n",
       "   0.709331646705017582; 0.306061974191195407; 0.572690613322194397;\n",
       "   0.754846046419289; 0.844944306911979082; 0.604588664289579913;\n",
       "   0.492045708053901687; 0.760582216997542138; 0.8764436966226683;\n",
       "   0.911763775262663168; 0.643888108352289712; 0.929898318138704383;\n",
       "   0.888036901542178847; 0.44036555854360826; 0.4762587465928938;\n",
       "   0.556087146792194; 0.643177020367996; 0.722339686861418;\n",
       "   0.427512511685097796; 0.133005204664912224; 0.844495072793466;\n",
       "   0.956331107071539566; 0.329911952348652; 0.694661341599362103;\n",
       "   0.872379286328805126; 0.078498407618783; 0.639708434743001875;\n",
       "   0.429633246185002426; 0.510792131816265; 0.702755403383190536;\n",
       "   0.308739185962144114; 0.588430794688452163; 0.437589211188554428;\n",
       "   0.207686051947168493; 0.727255965849700869; 0.286243305434712714;\n",
       "   0.572547257681614075; 0.029159622514807193; 0.274388785828615089;\n",
       "   0.823151461294210796; 0.93041542092256313; 0.354637317193426171;\n",
       "   0.953868396469223612; 0.711175317742516189; 0.567227904627118251;\n",
       "   0.710481768651307632; 0.352322256981083826; 0.772152856885676697;\n",
       "   0.247721742994223532; 0.225774627238243264; 0.199853888073841857;\n",
       "   0.168034688005287147; 0.192094059604571876; 0.0230502419341099239;\n",
       "   0.595267368991686; 0.698550227707403937; 0.734016926740049702;\n",
       "   0.944041031522991236; 0.322945590821807405; 0.0143952895685580794;\n",
       "   0.536597885229260885; 0.0113368338565756899; 0.0864856512959529811;\n",
       "   0.717222894708141; 0.597160220229795091; 0.243150308221966316;\n",
       "   0.785495191136689419; 0.779761129316177359; 0.40510378367258415;\n",
       "   0.877694956805119553; 0.557873723068656568; 0.842233570375364393;\n",
       "   0.401422155713543782; 0.179064221390316025; 0.760179997235358118;\n",
       "   0.24201460747909026]\n"
      ]
     },
     "execution_count": 1,
     "metadata": {},
     "output_type": "execute_result"
    },
    {
     "data": {
      "text/plain": [
       "val gen_y : float list -> float list -> float list = <fun>\n"
      ]
     },
     "execution_count": 1,
     "metadata": {},
     "output_type": "execute_result"
    },
    {
     "data": {
      "text/plain": [
       "val y : float list =\n",
       "  [-2.05097066175737108; -1.08386160005614474; -1.20552369553928784;\n",
       "   -1.30574990309300798; -2.19855668721631625; -1.75555814865016813;\n",
       "   -2.13936613863891623; -1.28219172734659526; -1.88517529183600852;\n",
       "   -2.14477034018896084; -1.95734006328543497; -1.82959360958297279;\n",
       "   -1.13266213421187789; -1.92784435451932312; -1.42878964955125043;\n",
       "   -1.62000652794809863; -1.20824119745565639; -1.84804221605932772;\n",
       "   -1.99838685250661841; -1.96161345752446037; -1.61235093182565925;\n",
       "   -2.05353921514697868; -1.99311830745961105; -1.96546527785302594;\n",
       "   -1.9659821012684251; -1.91538559477420045; -2.08681166472735935;\n",
       "   -2.1709640559121226; -1.86615300386796124; -1.98317067631431021;\n",
       "   -2.1056083923822948; -2.04458477338886313; -2.00921015943740944;\n",
       "   -1.88267575131992726; -2.2385793272023693; -1.78761687213299725;\n",
       "   -1.77377275301849702; -2.16845135712337722; -2.02078503171135848;\n",
       "   -2.16667290592360962; -2.09702102188651685; -2.17124233750398;\n",
       "   -2.07911568286994175; -1.64623872475839916; -2.04249333189824434;\n",
       "   -1.84948258936373611; -2.04263328382359832; -2.2074784759904027;\n",
       "   -1.91160358613210102; -1.45586745309623122; -1.97766120776901877;\n",
       "   -2.12921571090359363; -2.11943356058928467; -2.13601648690190915;\n",
       "   -1.94139871027649558; -2.23303424093235847; -2.03043953560975954;\n",
       "   -1.56523704315711432; -1.98013729645108971; -1.88325058286121227;\n",
       "   -1.99740310533675802; -1.27543791388859384; -1.68504024770834882;\n",
       "   -2.06361572387583037; -1.96820937923646788; -2.06713464167424554;\n",
       "   -1.69233375441119427; -2.11529911381778; -1.97124503810576313;\n",
       "   -2.20442820030146835; -1.91177479818670659; -1.95474127446505985;\n",
       "   -1.84645429002526185; -1.77013366584646281; -1.65345400545449706;\n",
       "   -1.60903347780798134; -1.60370900300849195; -1.16924707675631923;\n",
       "   -1.99050134630460906; -2.19408836298000676; -2.00709031403807314;\n",
       "   -1.75153896468572112; -1.83431053633059382; -1.31382832679710471;\n",
       "   -2.10424747288156855; -1.26896199386838027; -1.34734434399359682;\n",
       "   -2.21331378525689093; -2.0032895327085396; -1.65557833138472899;\n",
       "   -2.13747704268087046; -1.957314467460602; -1.87213727529737661;\n",
       "   -1.95327164356134775; -2.02790730337789826; -2.03856040065762834;\n",
       "   -1.90860911775143816; -1.59323024607140251; -2.02752987077386271;\n",
       "   -1.88789708424697134]\n"
      ]
     },
     "execution_count": 1,
     "metadata": {},
     "output_type": "execute_result"
    },
    {
     "data": {
      "text/plain": [
       "val gen_pp : ('a * 'b) list -> 'a list -> 'b list -> ('a * 'b) list = <fun>\n"
      ]
     },
     "execution_count": 1,
     "metadata": {},
     "output_type": "execute_result"
    },
    {
     "data": {
      "text/plain": [
       "val pp : (float * float) list =\n",
       "  [(0.24201460747909026, -1.88789708424697134);\n",
       "   (0.760179997235358118, -2.02752987077386271);\n",
       "   (0.179064221390316025, -1.59323024607140251);\n",
       "   (0.401422155713543782, -1.90860911775143816);\n",
       "   (0.842233570375364393, -2.03856040065762834);\n",
       "   (0.557873723068656568, -2.02790730337789826);\n",
       "   (0.877694956805119553, -1.95327164356134775);\n",
       "   (0.40510378367258415, -1.87213727529737661);\n",
       "   (0.779761129316177359, -1.957314467460602);\n",
       "   (0.785495191136689419, -2.13747704268087046);\n",
       "   (0.243150308221966316, -1.65557833138472899);\n",
       "   (0.597160220229795091, -2.0032895327085396);\n",
       "   (0.717222894708141, -2.21331378525689093);\n",
       "   (0.0864856512959529811, -1.34734434399359682);\n",
       "   (0.0113368338565756899, -1.26896199386838027);\n",
       "   (0.536597885229260885, -2.10424747288156855);\n",
       "   (0.0143952895685580794, -1.31382832679710471);\n",
       "   (0.322945590821807405, -1.83431053633059382);\n",
       "   (0.944041031522991236, -1.75153896468572112);\n",
       "   (0.734016926740049702, -2.00709031403807314);\n",
       "   (0.698550227707403937, -2.19408836298000676);\n",
       "   (0.595267368991686, -1.99050134630460906);\n",
       "   (0.0230502419341099239, -1.16924707675631923);\n",
       "   (0.192094059604571876, -1.60370900300849195);\n",
       "   (0.168034688005287147, -1.60903347780798134);\n",
       "   (0.199853888073841857, -1.65345400545449706);\n",
       "   (0.225774627238243264, -1.77013366584646281);\n",
       "   (0.247721742994223532, -1.84645429002526185);\n",
       "   (0.772152856885676697, -1.95474127446505985);\n",
       "   (0.352322256981083826, -1.91177479818670659);\n",
       "   (0.710481768651307632, -2.20442820030146835);\n",
       "   (0.567227904627118251, -1.97124503810576313);\n",
       "   (0.711175317742516189, -2.11529911381778);\n",
       "   (0.953868396469223612, -1.69233375441119427);\n",
       "   (0.354637317193426171, -2.06713464167424554);\n",
       "   (0.93041542092256313, -1.96820937923646788);\n",
       "   (0.823151461294210796, -2.06361572387583037);\n",
       "   (0.274388785828615089, -1.68504024770834882);\n",
       "   (0.029159622514807193, -1.27543791388859384);\n",
       "   (0.572547257681614075, -1.99740310533675802);\n",
       "   (0.286243305434712714, -1.88325058286121227);\n",
       "   (0.727255965849700869, -1.98013729645108971);\n",
       "   (0.207686051947168493, -1.56523704315711432);\n",
       "   (0.437589211188554428, -2.03043953560975954);\n",
       "   (0.588430794688452163, -2.23303424093235847);\n",
       "   (0.308739185962144114, -1.94139871027649558);\n",
       "   (0.702755403383190536, -2.13601648690190915);\n",
       "   (0.510792131816265, -2.11943356058928467);\n",
       "   (0.429633246185002426, -2.12921571090359363);\n",
       "   (0.639708434743001875, -1.97766120776901877);\n",
       "   (0.078498407618783, -1.45586745309623122);\n",
       "   (0.872379286328805126, -1.91160358613210102);\n",
       "   (0.694661341599362103, -2.2074784759904027);\n",
       "   (0.329911952348652, -2.04263328382359832);\n",
       "   (0.956331107071539566, -1.84948258936373611);\n",
       "   (0.844495072793466, -2.04249333189824434);\n",
       "   (0.133005204664912224, -1.64623872475839916);\n",
       "   (0.427512511685097796, -2.07911568286994175);\n",
       "   (0.722339686861418, -2.17124233750398);\n",
       "   (0.643177020367996, -2.09702102188651685);\n",
       "   (0.556087146792194, -2.16667290592360962);\n",
       "   (0.4762587465928938, -2.02078503171135848);\n",
       "   (0.44036555854360826, -2.16845135712337722);\n",
       "   (0.888036901542178847, -1.77377275301849702);\n",
       "   (0.929898318138704383, -1.78761687213299725);\n",
       "   (0.643888108352289712, -2.2385793272023693);\n",
       "   (0.911763775262663168, -1.88267575131992726);\n",
       "   (0.8764436966226683, -2.00921015943740944);\n",
       "   (0.760582216997542138, -2.04458477338886313);\n",
       "   (0.492045708053901687, -2.1056083923822948);\n",
       "   (0.604588664289579913, -1.98317067631431021);\n",
       "   (0.844944306911979082, -1.86615300386796124);\n",
       "   (0.754846046419289, -2.1709640559121226);\n",
       "   (0.572690613322194397, -2.08681166472735935);\n",
       "   (0.306061974191195407, -1.91538559477420045);\n",
       "   (0.709331646705017582, -1.9659821012684251);\n",
       "   (0.811743392595760893, -1.96546527785302594);\n",
       "   (0.43508027039092706, -1.99311830745961105);\n",
       "   (0.563717009982898754, -2.05353921514697868);\n",
       "   (0.243970857710033823, -1.61235093182565925);\n",
       "   (0.388339873984977269, -1.96161345752446037);\n",
       "   (0.362592271504737496, -1.99838685250661841);\n",
       "   (0.265195565175353476, -1.84804221605932772);\n",
       "   (0.0393008084231417365, -1.20824119745565639);\n",
       "   (0.136746134509879547, -1.62000652794809863);\n",
       "   (0.0821850215267001, -1.42878964955125043);\n",
       "   (0.286901404454306064, -1.92784435451932312);\n",
       "   (0.0210421034024295545, -1.13266213421187789);\n",
       "   (0.998859295911093459, -1.82959360958297279);\n",
       "   (0.48248782665370904, -1.95734006328543497);\n",
       "   (0.595176653700347558, -2.14477034018896084);\n",
       "   (0.238505093005829061, -1.88517529183600852);\n",
       "   (0.0300643870063514312, -1.28219172734659526);\n",
       "   (0.626521994433336338, -2.13936613863891623);\n",
       "   (0.205342767271661, -1.75555814865016813);\n",
       "   (0.60546429093965759, -2.19855668721631625);\n",
       "   (0.0309679714487140038, -1.30574990309300798);\n",
       "   (0.0321120739492010143, -1.20552369553928784);\n",
       "   (0.00302305526080004928, -1.08386160005614474);\n",
       "   (0.615023422878463899, ...); ...]\n"
      ]
     },
     "execution_count": 1,
     "metadata": {},
     "output_type": "execute_result"
    },
    {
     "data": {
      "text/plain": [
       "val x : Matrix.t = <abstr>\n"
      ]
     },
     "execution_count": 1,
     "metadata": {},
     "output_type": "execute_result"
    },
    {
     "data": {
      "text/plain": [
       "val y : Matrix.t = <abstr>\n"
      ]
     },
     "execution_count": 1,
     "metadata": {},
     "output_type": "execute_result"
    },
    {
     "data": {
      "text/plain": [
       "val w : float list list =\n",
       "  [[-1.1663553759316565]; [-3.09297665350366069]; [2.53088593399654371]]\n"
      ]
     },
     "execution_count": 1,
     "metadata": {},
     "output_type": "execute_result"
    },
    {
     "data": {
      "text/plain": [
       "val f : float -> float = <fun>\n"
      ]
     },
     "execution_count": 1,
     "metadata": {},
     "output_type": "execute_result"
    }
   ],
   "source": [
    "#directory \"_build\"\n",
    "#load \"matrix.cmo\"\n",
    "#require \"jupyter-archimedes\"\n",
    "#use \"matrix.ml\"\n",
    "#use \"polynomial_regression.ml\"\n",
    "\n",
    "(* Generating training data for quadratic fit *)\n",
    "(* Generate x values for training *)\n",
    "let rec gen_x acc n = if n = 0 then acc else gen_x (Random.float 1.0 :: acc) (n-1) \n",
    "let x = gen_x [] 100\n",
    "(* Generate y values with noise for training *)\n",
    "let rec gen_y acc lst = \n",
    "    match lst with \n",
    "    | [] -> acc \n",
    "    | x :: xs -> gen_y (acc @ [2.6 *. x ** 2. -. 3.14 *. x -. 1.3 +. (Random.float 0.3)]) xs \n",
    "let y = gen_y [] x\n",
    "(*Generate (x, y) pair list for plotting *)\n",
    "let rec gen_pp acc x_lst y_lst = \n",
    "    match x_lst with \n",
    "    | [] -> acc \n",
    "    | x :: xs -> \n",
    "        match y_lst with \n",
    "        | [] -> assert false\n",
    "        | y :: ys -> \n",
    "            gen_pp ((x, y) :: acc) xs ys\n",
    "let pp = gen_pp [] x y\n",
    "\n",
    "(* Transforming training data to matrix *)\n",
    "let x = [x] |> construct |> transpose \n",
    "let y = [y] |> construct |> transpose \n",
    "let w = fit x y 2 |> matrix\n",
    "\n",
    "(* Function for graphing *)\n",
    "let f x = \n",
    "    match w with \n",
    "    | [a] :: [b] :: [c] :: [] -> a +. b *. x +. c *. x ** 2.\n",
    "    | _ -> assert false"
   ]
  },
  {
   "cell_type": "code",
   "execution_count": 5,
   "metadata": {
    "scrolled": false
   },
   "outputs": [
    {
     "data": {
      "image/png": "[encoded data removed]"
     },
     "metadata": {},
     "output_type": "display_data"
    },
    {
     "data": {
      "text/plain": [
       "- : unit = ()\n"
      ]
     },
     "execution_count": 5,
     "metadata": {},
     "output_type": "execute_result"
    }
   ],
   "source": [
    "(* Plot using Archimedes *)\n",
    "let vp = A. init ~w:600. ~h:600. [\"jupyter\"] in\n",
    "    A.Axes.box vp ;\n",
    "    A.set_color vp A.Color.red ;\n",
    "    A.List.xy_pairs vp pp ;\n",
    "    A.set_color vp A.Color.blue ;\n",
    "    A.fx vp f 0.0 1.0 ;\n",
    "    A.close vp "
   ]
  },
  {
   "cell_type": "code",
   "execution_count": null,
   "metadata": {},
   "outputs": [],
   "source": []
  }
 ],
 "metadata": {
  "kernelspec": {
   "display_name": "OCaml cs3110-finalproj",
   "language": "OCaml",
   "name": "ocaml-jupyter"
  },
  "language_info": {
   "codemirror_mode": "text/x-ocaml",
   "file_extension": ".ml",
   "mimetype": "text/x-ocaml",
   "name": "OCaml",
   "nbconverter_exporter": null,
   "pygments_lexer": "OCaml",
   "version": "4.11.1"
  }
 },
 "nbformat": 4,
 "nbformat_minor": 4
}
