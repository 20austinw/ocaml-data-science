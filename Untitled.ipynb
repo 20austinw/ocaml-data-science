{
 "cells": [
  {
   "cell_type": "code",
   "execution_count": 2,
   "id": "coordinated-button",
   "metadata": {},
   "outputs": [
    {
     "name": "stderr",
     "output_type": "stream",
     "text": [
      "/home/austinw/.opam/cs3110-2021sp/lib/ocaml/unix.cma: loaded\n",
      "/home/austinw/.opam/cs3110-2021sp/lib/ocaml/bigarray.cma: loaded\n",
      "/home/austinw/.opam/cs3110-2021sp/lib/cairo2: added to search path\n",
      "/home/austinw/.opam/cs3110-2021sp/lib/cairo2/cairo.cma: loaded\n",
      "/home/austinw/.opam/cs3110-2021sp/lib/ocaml/dynlink.cma: loaded\n",
      "/home/austinw/.opam/cs3110-2021sp/lib/ocaml/camlp4: added to search path\n",
      "/home/austinw/.opam/cs3110-2021sp/lib/archimedes: added to search path\n",
      "/home/austinw/.opam/cs3110-2021sp/lib/archimedes/archimedes_internals.cma: loaded\n",
      "/home/austinw/.opam/cs3110-2021sp/lib/archimedes/archimedes_toploop.cma: loaded\n"
     ]
    },
    {
     "name": "stdout",
     "output_type": "stream",
     "text": [
      "Cannot find file graphics.cma.\n",
      "Cannot find file archimedes_graphics.cma.\n"
     ]
    },
    {
     "name": "stderr",
     "output_type": "stream",
     "text": [
      "Module Archimedes loaded and aliased as A.\n",
      "/home/austinw/.opam/cs3110-2021sp/lib/archimedes/archimedes_cairo.cma: loaded\n",
      "/home/austinw/.opam/cs3110-2021sp/lib/bytes: added to search path\n",
      "/home/austinw/.opam/cs3110-2021sp/lib/base64: added to search path\n",
      "/home/austinw/.opam/cs3110-2021sp/lib/base64/base64.cma: loaded\n",
      "/home/austinw/.opam/cs3110-2021sp/lib/ocaml/compiler-libs: added to search path\n",
      "/home/austinw/.opam/cs3110-2021sp/lib/ocaml/compiler-libs/ocamlcommon.cma: loaded\n",
      "/home/austinw/.opam/cs3110-2021sp/lib/result: added to search path\n",
      "/home/austinw/.opam/cs3110-2021sp/lib/result/result.cma: loaded\n",
      "/home/austinw/.opam/cs3110-2021sp/lib/ppx_deriving/runtime: added to search path\n",
      "/home/austinw/.opam/cs3110-2021sp/lib/ppx_deriving/runtime/ppx_deriving_runtime.cma: loaded\n",
      "/home/austinw/.opam/cs3110-2021sp/lib/ppx_deriving_yojson/runtime: added to search path\n",
      "/home/austinw/.opam/cs3110-2021sp/lib/ppx_deriving_yojson/runtime/ppx_deriving_yojson_runtime.cma: loaded\n",
      "/home/austinw/.opam/cs3110-2021sp/lib/uuidm: added to search path\n",
      "/home/austinw/.opam/cs3110-2021sp/lib/uuidm/uuidm.cma: loaded\n",
      "/home/austinw/.opam/cs3110-2021sp/lib/easy-format: added to search path\n",
      "/home/austinw/.opam/cs3110-2021sp/lib/easy-format/easy_format.cma: loaded\n",
      "/home/austinw/.opam/cs3110-2021sp/lib/biniou: added to search path\n",
      "/home/austinw/.opam/cs3110-2021sp/lib/biniou/biniou.cma: loaded\n",
      "/home/austinw/.opam/cs3110-2021sp/lib/yojson: added to search path\n",
      "/home/austinw/.opam/cs3110-2021sp/lib/yojson/yojson.cma: loaded\n",
      "/home/austinw/.opam/cs3110-2021sp/lib/jupyter: added to search path\n",
      "/home/austinw/.opam/cs3110-2021sp/lib/jupyter/jupyter.cma: loaded\n",
      "/home/austinw/.opam/cs3110-2021sp/lib/jupyter/notebook: added to search path\n",
      "/home/austinw/.opam/cs3110-2021sp/lib/jupyter/notebook/jupyter_notebook.cma: loaded\n",
      "/home/austinw/.opam/cs3110-2021sp/lib/jupyter-archimedes: added to search path\n",
      "/home/austinw/.opam/cs3110-2021sp/lib/jupyter-archimedes/jupyter_archimedes.cma: loaded\n"
     ]
    },
    {
     "name": "stdout",
     "output_type": "stream",
     "text": [
      "val classify : 'a -> 'b -> 'c = <fun>\n"
     ]
    }
   ],
   "source": [
    "#require \"jupyter-archimedes\"\n",
    "#use \"k_means.ml\""
   ]
  },
  {
   "cell_type": "code",
   "execution_count": 35,
   "id": "lesser-creature",
   "metadata": {},
   "outputs": [
    {
     "data": {
      "text/plain": [
       "val gen_clusters :\n",
       "  (float * float) list -> int -> int -> float -> (float * float) list = <fun>\n"
      ]
     },
     "execution_count": 35,
     "metadata": {},
     "output_type": "execute_result"
    },
    {
     "data": {
      "text/plain": [
       "val pp : (float * float) list =\n",
       "  [(-4.15167752682326352, 44.1051734171987491);\n",
       "   (5.58035412905187389, 47.6393880575466611);\n",
       "   (17.6666192521064431, 43.829768502870678);\n",
       "   (17.9915898279383129, 45.1595823041841342);\n",
       "   (10.5431258093074796, 44.0579629100673955);\n",
       "   (2.44565004325509161, 45.7443172986209845);\n",
       "   (5.58802442523863441, 42.5471982139645633);\n",
       "   (-4.52626527964113734, 44.8387670346217106);\n",
       "   (5.70918651467491589, 42.5387378841573423);\n",
       "   (10.0719345003017828, 44.0040675659631404);\n",
       "   (3.99722934239619754, 44.625169024790452);\n",
       "   (12.4947188151631483, 48.6079131386193311);\n",
       "   (4.49967330347693739, 48.5279338615714479);\n",
       "   (6.75431254167051, 46.1641787783525288);\n",
       "   (10.2034051862488901, 49.8788502470485113);\n",
       "   (2.98153547039166789, 42.0015067760396121);\n",
       "   (16.0533452366723921, 50.4499403701639579);\n",
       "   (2.30646102648085716, 47.4553922227503051);\n",
       "   (4.49884684859052708, 42.4339817796952232);\n",
       "   (14.9059344539297935, 43.4044007969588677);\n",
       "   (3.40918999550632229, 43.3332828758016291);\n",
       "   (-0.508212659950868506, 50.2703324429381);\n",
       "   (1.33025166284561669, 53.6362416174574861);\n",
       "   (-7.65415798731429, 45.5758605616681791);\n",
       "   (7.04847141610107908, 48.1463310915492713);\n",
       "   (4.87534970898269382, 56.6034364978657152);\n",
       "   (12.2213362013260518, 46.7274254846017953);\n",
       "   (6.47539660482943535, 45.0539200975052125);\n",
       "   (8.8991519477485852, 42.1819921507487834);\n",
       "   (4.82561642405773572, 46.7080233795447555);\n",
       "   (56.4711361687867353, 41.3170635118633385);\n",
       "   (41.5640183786885089, 47.7340862335521265);\n",
       "   (50.121759459583366, 47.4072238910361179);\n",
       "   (51.6583594197550937, 41.4171521044218878);\n",
       "   (41.8615519395622755, 43.6172130975745134);\n",
       "   (53.5523868395131117, 44.894145164629542);\n",
       "   (52.270453404176962, 42.6422188811013783);\n",
       "   (42.3791070692380458, 41.9619196404182091);\n",
       "   (51.7217822864749621, 52.4661322724385428);\n",
       "   (46.8267481726467167, 41.6705361012638704);\n",
       "   (36.1088717495926, 41.7458702883602584);\n",
       "   (52.554215751798111, 42.4845358883904325);\n",
       "   (55.3176143925478243, 42.466306932932369);\n",
       "   (51.320228197309838, 40.9802398253901075);\n",
       "   (55.257033890370387, 43.3190201906018757);\n",
       "   (53.1373206381845, 43.0422327508430129);\n",
       "   (63.2527707376182065, 41.2443294596656);\n",
       "   (44.6337021894753505, 46.8434172017708832);\n",
       "   (41.2684642985994614, 46.2035822902787743);\n",
       "   (47.7511049596271633, 43.2797223234508053);\n",
       "   (56.7799283175995129, 43.3941358586100705);\n",
       "   (61.4560114644697961, 42.8152027861755826);\n",
       "   (61.1475967060192431, 41.3134638038796709);\n",
       "   (49.0057349279978851, 50.3963935569994206);\n",
       "   (55.7556933444360041, 46.2959059042260748);\n",
       "   (41.1231317414014725, 42.2492774662240294);\n",
       "   (54.0611915632288458, 48.4734792466381634);\n",
       "   (56.2423462419969766, 41.2697861676158837);\n",
       "   (42.2923559101838435, 50.0632864390305059);\n",
       "   (49.0250214610598363, 54.9801523487900781);\n",
       "   (47.7198330275181775, 61.7957921178853127);\n",
       "   (33.9995510176114806, 63.8306478098756216);\n",
       "   (53.7259565638817875, 66.9766114233635079);\n",
       "   (43.1785672262636879, 66.6278830570988);\n",
       "   (46.4312050509408394, 59.8199571467408191);\n",
       "   (41.5309236278408278, 70.5280668180839);\n",
       "   (46.9148488231330205, 66.9204885897493114);\n",
       "   (45.7130814855089227, 65.9824266803164363);\n",
       "   (44.7915220118442718, 60.3975021394707667);\n",
       "   (51.148472912230929, 67.9202126092368843);\n",
       "   (55.9120410965185926, 62.4589859124713698);\n",
       "   (39.5375919096046218, 59.7391824865372172);\n",
       "   (49.0756605313939716, 70.8175355687966714);\n",
       "   (40.5395866107819955, 62.9011963158507754);\n",
       "   (45.5584887591907446, 66.4056792653410213);\n",
       "   (34.4253088518760606, 60.2359859428331461);\n",
       "   (36.7316764745721258, 60.603925927409378);\n",
       "   (53.6139659332364289, 67.7265781408301706);\n",
       "   (38.8281486855836704, 64.2184068635180836);\n",
       "   (48.0317430022467562, 63.3549488103899563);\n",
       "   (58.1089282688146938, 66.0794470075362);\n",
       "   (47.2100114364786592, 67.113992368669571);\n",
       "   (42.2748655845779382, 60.553445084826869);\n",
       "   (36.583889964275123, 64.2865459410766);\n",
       "   (51.5746058640617946, 71.8560023774523);\n",
       "   (51.0379264577386422, 64.8413631361554);\n",
       "   (46.9100788787981386, 58.8303086115980491);\n",
       "   (50.4555208339343935, 62.3100418584766871);\n",
       "   (47.6858405845778108, 59.3119110918404147);\n",
       "   (41.7099790696477868, 65.5045064216470792)]\n"
      ]
     },
     "execution_count": 35,
     "metadata": {},
     "output_type": "execute_result"
    }
   ],
   "source": [
    "let rec gen_clusters acc n k r = \n",
    "    if n = 0 then acc \n",
    "    else \n",
    "        let rec helper acc c k = \n",
    "            if k = 0 then acc \n",
    "            else \n",
    "            let theta = Random.float Float.pi in \n",
    "            let r' = Random.float r in \n",
    "            let x = r' *. Float.cos theta in \n",
    "            let y = r' *. Float.sin theta in  \n",
    "            helper (((fst c) +. x, (snd c) +. y) :: acc) c (k - 1) in \n",
    "    gen_clusters (acc @ (helper [] (Random.float 60.0, Random.float 60.0) k)) (n - 1) k r\n",
    "\n",
    "let pp = gen_clusters [] 3 30 15.0\n",
    "    "
   ]
  },
  {
   "cell_type": "code",
   "execution_count": 36,
   "id": "compact-fortune",
   "metadata": {},
   "outputs": [
    {
     "data": {
      "image/png": "[encoded data removed]"
     },
     "metadata": {},
     "output_type": "display_data"
    },
    {
     "data": {
      "text/plain": [
       "- : unit = ()\n"
      ]
     },
     "execution_count": 36,
     "metadata": {},
     "output_type": "execute_result"
    }
   ],
   "source": [
    "let vp = A. init ~w:600. ~h:600. [\"jupyter\"] in\n",
    "    A.Axes.box vp ;\n",
    "    A.set_color vp A.Color.black ;\n",
    "    A.List.xy_pairs vp pp ;\n",
    "    A.close vp "
   ]
  },
  {
   "cell_type": "code",
   "execution_count": null,
   "id": "moral-presence",
   "metadata": {},
   "outputs": [],
   "source": []
  },
  {
   "cell_type": "code",
   "execution_count": null,
   "id": "assured-demographic",
   "metadata": {},
   "outputs": [],
   "source": []
  }
 ],
 "metadata": {
  "kernelspec": {
   "display_name": "OCaml cs3110-2021sp",
   "language": "OCaml",
   "name": "ocaml-jupyter"
  },
  "language_info": {
   "codemirror_mode": "text/x-ocaml",
   "file_extension": ".ml",
   "mimetype": "text/x-ocaml",
   "name": "OCaml",
   "nbconverter_exporter": null,
   "pygments_lexer": "OCaml",
   "version": "4.11.1"
  }
 },
 "nbformat": 4,
 "nbformat_minor": 5
}
